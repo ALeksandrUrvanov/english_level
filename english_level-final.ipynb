{
 "cells": [
  {
   "cell_type": "markdown",
   "id": "bf255de2",
   "metadata": {},
   "source": [
    "### Классификация фильмов по уровню владения английского языка"
   ]
  },
  {
   "cell_type": "markdown",
   "id": "48f3d695",
   "metadata": {},
   "source": [
    "Класссификация фильмов по уровню подготовки нужна для мотивации учащиегося сохранить интерес к изучению языка. Фильм должен содержать слова по уровню ученика."
   ]
  },
  {
   "cell_type": "markdown",
   "id": "8bb9dcc9",
   "metadata": {},
   "source": [
    "Целью проекта будет разработанная модель соотносящая фильмы к определенному уровню владения английского языка."
   ]
  },
  {
   "cell_type": "markdown",
   "id": "7165fd56",
   "metadata": {},
   "source": [
    "В ходе работы планируем выполнить следующие шаги:\n",
    " 1. Загрузка и подготовка данных.\n",
    " 2. Выбор и обучение моделей, итоговая оценка качества предсказания лучшей модели.\n",
    " 3. Вывод."
   ]
  },
  {
   "cell_type": "code",
   "execution_count": 1,
   "id": "4d90690f",
   "metadata": {},
   "outputs": [
    {
     "name": "stdout",
     "output_type": "stream",
     "text": [
      "Author: Yandex\n",
      "\n",
      "Last updated: 2023-07-01\n",
      "\n",
      "Python implementation: CPython\n",
      "Python version       : 3.11.4\n",
      "IPython version      : 8.14.0\n",
      "\n",
      "numpy     : 1.25.0\n",
      "pandas    : 2.0.2\n",
      "matplotlib: 3.7.1\n",
      "sklearn   : 0.0.post5\n",
      "nltk      : 3.8.1\n",
      "\n"
     ]
    }
   ],
   "source": [
    "%load_ext watermark\n",
    "%watermark -a 'Yandex' -u -d -v -p numpy,pandas,matplotlib,sklearn,nltk"
   ]
  },
  {
   "cell_type": "code",
   "execution_count": 2,
   "id": "d7809c24",
   "metadata": {},
   "outputs": [],
   "source": [
    "from distutils.version import LooseVersion as Version\n",
    "from sklearn import __version__ as sklearn_version"
   ]
  },
  {
   "cell_type": "markdown",
   "id": "5dc85b99",
   "metadata": {},
   "source": [
    "## 1. Загрузка и подготовка данных"
   ]
  },
  {
   "cell_type": "code",
   "execution_count": 3,
   "id": "8190b057",
   "metadata": {},
   "outputs": [],
   "source": [
    "# выведем необходимые библиотеки для работы\n",
    "\n",
    "import time\n",
    "import warnings\n",
    "from datetime import datetime\n",
    "\n",
    "import pandas as pd\n",
    "import numpy as np\n",
    "\n",
    "import pyprind\n",
    "import pickle\n",
    "import chardet\n",
    "import string\n",
    "import re, sys\n",
    "import os, glob\n",
    "\n",
    "import nltk\n",
    "from nltk.corpus import stopwords\n",
    "from nltk.stem import WordNetLemmatizer\n",
    "from nltk.stem.porter import PorterStemmer\n",
    "\n",
    "from sklearn.feature_extraction.text import TfidfVectorizer\n",
    "from sklearn.feature_extraction.text import TfidfTransformer\n",
    "from sklearn.feature_extraction.text import CountVectorizer\n",
    "from sklearn.pipeline import Pipeline, make_pipeline\n",
    "from sklearn.model_selection import train_test_split\n",
    "from sklearn.model_selection import cross_val_score\n",
    "from sklearn.naive_bayes import MultinomialNB\n",
    "from sklearn.linear_model import SGDClassifier \n",
    "from sklearn.model_selection import RandomizedSearchCV, GridSearchCV, train_test_split\n",
    "from sklearn.metrics import confusion_matrix\n",
    "from sklearn.metrics import accuracy_score, classification_report\n",
    "\n",
    "RANDOM_STATE = 12345\n",
    "\n",
    "from tabula import read_pdf\n",
    "from PyPDF2 import PdfReader\n",
    "import pysrt\n"
   ]
  },
  {
   "cell_type": "code",
   "execution_count": 4,
   "id": "05a82a77",
   "metadata": {},
   "outputs": [],
   "source": [
    "# дополнительные артикли, предлоги и местоимения для фильтра субтитров\n",
    "stop_additional = ['I', 'm', 'me', 'you', 'he', 'him', 'she', 'her', 'we', 'us', 'they', 'them', 'thus', \n",
    "        'your', 'our', 'its', 's', 'their', 'mine', 'ours', 'theirs', 'yours', 'hers', 'yes', 'his',\n",
    "        'this', 'that', 'these', 'those', 'such', 'much', 'many', 'to', 'be', 'myself', 'yourself',\n",
    "        'ourselves', 'yourselves', 'himself', 'herself', 'itself', 'themselves', 'for', 'mmm', 'hey',\n",
    "        'who', 'what', 'where', 'when', 'why', 'which', 'whose', 'no', 'nothing', 'nobody', 'no',\n",
    "        'none', 'neither', 'some', 'any', 'a', 'an', 'the', 'is', 'are', 'on', 'in', 'at', 'under',\n",
    "        'above', 'near', 'there', 'about', 'against', 'of', 'by', 'from', 'since', 'till', 'untill', \n",
    "        'within', 'between', 'below', 'behind', 'outside', 'into', 'up', 'through', 'down', 'along', \n",
    "        'across', 'out', 'hi', 'oh', 'yeah', 'ah', 'this', 'it', 'do', 'll', 'not', 'shh', 'am', 'so',\n",
    "        're', 'don', 'my', 'all', 'off', 've', 'with', 'mm', 'hmm', 'did', 'do', 'didn', 'will', 'and'\n",
    "        'still', 'if', 'em', 'then', 'adw', 'and', 'still', 'or', 'bit', 'over', 'as', 'uh', 'huh',\n",
    "        'okay', 'can', 'um', 'lot', 'alb', 'but', 'here', 'cb', 'couldn', 't', 'whoa', 'hyah', 'hijo',\n",
    "        'eww', 'ain', 'ed', 'than', 'sir', 'thank', 'elder_man', 'mike', 'have', 'just', 'know', 'ross',\n",
    "        'n', 'ni','louis', 'was', 'one', 'now', 'well', 'tell', 'want', 'get', 'like', 'gonna', 'right',\n",
    "        'âª âª', 'i', '‘em', 'x', 'id', 'im', 'ive', '♪', 'carl', 'aint', 'ï»¿', 'ii', 'lynx',\n",
    "        'itll', 'iim', 'iin', 'ithis', 'ii', 'â', 'ª', 'colorffffeldermanfont', 'â ª', 'colorp®fontb',\n",
    "        'durã¡n', 'colorffkrishnatejafontb', 'ÿþ', 'e020', 'ffff00', 'mr']\n",
    "\n"
   ]
  },
  {
   "cell_type": "code",
   "execution_count": 5,
   "id": "d6a1e171",
   "metadata": {},
   "outputs": [
    {
     "data": {
      "text/html": [
       "<div>\n",
       "<style scoped>\n",
       "    .dataframe tbody tr th:only-of-type {\n",
       "        vertical-align: middle;\n",
       "    }\n",
       "\n",
       "    .dataframe tbody tr th {\n",
       "        vertical-align: top;\n",
       "    }\n",
       "\n",
       "    .dataframe thead th {\n",
       "        text-align: right;\n",
       "    }\n",
       "</style>\n",
       "<table border=\"1\" class=\"dataframe\">\n",
       "  <thead>\n",
       "    <tr style=\"text-align: right;\">\n",
       "      <th></th>\n",
       "      <th>Movie</th>\n",
       "      <th>Level</th>\n",
       "    </tr>\n",
       "    <tr>\n",
       "      <th>id</th>\n",
       "      <th></th>\n",
       "      <th></th>\n",
       "    </tr>\n",
       "  </thead>\n",
       "  <tbody>\n",
       "    <tr>\n",
       "      <th>0</th>\n",
       "      <td>10_Cloverfield_lane(2016)</td>\n",
       "      <td>B1</td>\n",
       "    </tr>\n",
       "    <tr>\n",
       "      <th>1</th>\n",
       "      <td>10_things_I_hate_about_you(1999)</td>\n",
       "      <td>B1</td>\n",
       "    </tr>\n",
       "    <tr>\n",
       "      <th>2</th>\n",
       "      <td>A_knights_tale(2001)</td>\n",
       "      <td>B2</td>\n",
       "    </tr>\n",
       "  </tbody>\n",
       "</table>\n",
       "</div>"
      ],
      "text/plain": [
       "                               Movie Level\n",
       "id                                        \n",
       "0          10_Cloverfield_lane(2016)    B1\n",
       "1   10_things_I_hate_about_you(1999)    B1\n",
       "2               A_knights_tale(2001)    B2"
      ]
     },
     "execution_count": 5,
     "metadata": {},
     "output_type": "execute_result"
    }
   ],
   "source": [
    "# откроем файл с названием фильмов и уровнем английского\n",
    "df = pd.read_excel('/Users/urvanov_aleksandr/Documents/Yandex/17DS+/Мастерская/english_level/English_scores/movies_labels.xlsx', index_col='id')\n",
    "df.head(3)"
   ]
  },
  {
   "cell_type": "code",
   "execution_count": 6,
   "id": "f793c96b",
   "metadata": {},
   "outputs": [],
   "source": [
    "# функция для фильтра стоп-словами\n",
    "def clean_subs(subs):\n",
    "    subs = [a for a in subs if a not in stop_additional]  \n",
    "    return subs"
   ]
  },
  {
   "cell_type": "code",
   "execution_count": 7,
   "id": "91c77ef1",
   "metadata": {},
   "outputs": [],
   "source": [
    "# загрузим в список имена файлов из папки с субтитрами A2\n",
    "films_name = os.listdir(path='/Users/urvanov_aleksandr/Documents/Yandex/17DS+/Мастерская/english_level/English_scores/Subtitles_all/A2')\n",
    "films_filtr = set(films_name) & set(df['Movie'] + '.srt')\n"
   ]
  },
  {
   "cell_type": "code",
   "execution_count": 8,
   "id": "49b73dc9",
   "metadata": {},
   "outputs": [],
   "source": [
    "a_2 = []\n",
    "\n",
    "# загружаем и отфильтровываем субтитры \n",
    "for film in films_filtr:\n",
    "    try: \n",
    "        subs = pysrt.open(f'/Users/urvanov_aleksandr/Documents/Yandex/17DS+/Мастерская/english_level/English_scores/Subtitles_all/A2/{film},')\n",
    "    except:\n",
    "        subs = pysrt.open(f'/Users/urvanov_aleksandr/Documents/Yandex/17DS+/Мастерская/english_level/English_scores/Subtitles_all/A2/{film}', encoding='latin-1')\n",
    "    # вызов функии для очистки текста\n",
    "    subs = re.findall('[a-zA-Z]+\\w+', subs.text)\n",
    "    for i in range(len(subs)):\n",
    "        subs[i] = subs[i].lower()\n",
    "    cln_subs = clean_subs(subs)\n",
    "    a_2.append(cln_subs)\n",
    "    \n",
    "\n",
    "    "
   ]
  },
  {
   "cell_type": "code",
   "execution_count": 9,
   "id": "be418269",
   "metadata": {},
   "outputs": [
    {
     "name": "stdout",
     "output_type": "stream",
     "text": [
      "[['thunder', 'rumbling', 'merle', 'heard', 'bitch', 'got', 'problem', 'bring', 'man', 'enough', 'take', 'chain', 'pussy', 'heard', 'pussy', 'ass', 'noncom', 'bitch', 'deaf', 'take', 'damn', 'chain', 'command', 'kiss', 'lily', 'white', 'ass', 'laughs', 'said', 'heard', 'idiot', 'takes', 'swing', 'laughing', 'hysterically', 'should', 'seen', 'look', 'face', 'punched', 'front', 'teeth', 'five', 'pow', 'pow', 'god', 'months', 'stockade', 'teeth', 'cost', 'hard', 'time', 'god', 'worth', 'every', 'minute', 'see', 'prick', 'spit', 'teeth', 'ground', 'worth', 'every', 'minute', 'wind', 'blowing', 'god', 'god', 'grunts', 'god', 'jesus', 'merciful', 'christ', 'god', 'help', 'god', 'god', 'jesus', 'please', 'jesus', 'please', 'help', 'come', 'help', 'zombies', 'growling', 'banging', 'softly', 'god', 'crying', 'jesus', 'jesus', 'please', 'behave', 'being', 'punished', 'deserve', 'deserve', 'been', 'bad', 'help', 'show', 'way', 'go', 'god', 'grunting', 'never', 'mind', 'silly', 'christ', 'boy', 'begged', 'before', 'start', 'begging', 'beg', 'worry', 'begging', 'ever', 'never', 'beg', 'beg', 'never', 'begged', 'before', 'grunting', 'banging', 'growling', 'continues', 'shit', 'theme', 'music', 'playing', 'best', 'dwell', 'merle', 'got', 'left', 'sad', 'come', 'back', 'except', 'maybe', 'daryl', 'daryl', 'brother', 'car', 'alarm', 'approaching', 'glenn', 'whooping', 'whoo', 'hoo', 'least', 'somebody', 'having', 'good', 'day', 'rattling', 'kids', 'grunting', 'girl', 'give', 'back', 'boy', 'stop', 'girl', 'boy', 'found', 'girl', 'boy', 'give', 'leave', 'sister', 'alone', 'come', 'baby', 'more', 'fidget', 'longer', 'takes', 'trying', 'try', 'harder', 'shane', 'think', 'bad', 'wait', 'start', 'shaving', 'stings', 'day', 'comes', 'wishing', 'mama', 'haircuts', 'believe', 'see', 'shane', 'chuckles', 'manly', 'dignity', 'tomorrow', 'teach', 'something', 'special', 'teach', 'catch', 'frogs', 'caught', 'frog', 'before', 'said', 'frogs', 'plural', 'art', 'friend', 'taken', 'lightly', 'ways', 'means', 'few', 'people', 'willing', 'share', 'secrets', 'girl', 'talk', 'chuckles', 'time', 'offer', 'bud', 'repeated', 'need', 'frogs', 'plural', 'shane', 'ever', 'eat', 'frog', 'legs', 'yum', 'last', 'beans', 'loving', 'frog', 'legs', 'lady', 'see', 'shane', 'think', 'could', 'second', 'helping', 'please', 'please', 'doubt', 'chuckles', 'listen', 'man', 'heroes', 'feed', 'folks', 'cajun', 'style', 'kermit', 'legs', 'would', 'rather', 'eat', 'miss', 'piggy', 'came', 'wrong', 'shane', 'laughs', 'shane', 'heroes', 'son', 'spoken', 'song', 'legend', 'shane', 'shane', 'laugh', 'car', 'alarm', 'approaching', 'man', 'dale', 'see', 'shane', 'talk', 'dale', 'yet', 'man', 'let', 'good', 'look', 'back', 'dale', 'damned', 'amy', 'stolen', 'car', 'guess', 'holy', 'crap', 'turn', 'damn', 'thing', 'how', 'pop', 'hood', 'please', 'pop', 'hood', 'sister', 'andrea', 'pop', 'damn', 'hood', 'please', 'coming', 'back', 'glenn', 'amy', 'isn', 'fine', 'everybody', 'merle', 'crazy', 'driving', 'wailing', 'bastard', 'trying', 'draw', 'every', 'walker', 'miles', 'think', 'call', 'being', 'stupid', 'dale', 'alarm', 'echoing', 'hills', 'hard', 'pinpoint', 'source', 'arguing', 'saying', 'wouldn', 'hurt', 'think', 'things', 'little', 'more', 'carefully', 'next', 'time', 'would', 'orry', 'got', 'cool', 'car', 'truck', 'approaches', 'come', 'meet', 'everybody', 'engine', 'stops', 'sliding', 'door', 'opens', 'amy', 'crying', 'andrea', 'andrea', 'god', 'scared', 'shit', 'boy', 'papi', 'daddy', 'morales', 'lori', 'come', 'sweetie', 'morales', 'told', 'back', 'silent', 'whispers', 'dale', 'welcome', 'sight', 'both', 'laugh', 'thought', 'had', 'lost', 'folks', 'sure', 'how', 'anyway', 'new', 'guy', 'got', 'shane', 'new', 'guy', 'morales', 'crazy', 'vato', 'got', 'town', 'helicopter', 'boy', 'come', 'say', 'hello', 'truck', 'door', 'opens', 'shuts', 'morales', 'guy', 'cop', 'god', 'dad', 'dad', 'crying', 'crickets', 'chirping', 'rick', 'disoriented', 'crickets', 'chirping', 'rick', 'disoriented', 'guess', 'comes', 'closest', 'disoriented', 'fear', 'confusion', 'things', 'thunder', 'rumbling', 'disoriented', 'comes', 'closest', 'words', 'meager', 'things', 'sometimes', 'fall', 'short', 'rick', 'felt', 'been', 'ripped', 'life', 'put', 'somewhere', 'else', 'while', 'thought', 'trapped', 'coma', 'dream', 'something', 'might', 'wake', 'ever', 'mom', 'said', 'died', 'had', 'every', 'reason', 'believe', 'ever', 'doubt', 'lori', 'things', 'started', 'really', 'bad', 'told', 'hospital', 'were', 'medevac', 'other', 'patients', 'atlanta', 'never', 'happened', 'surprised', 'after', 'atlanta', 'fell', 'lori', 'look', 'hospital', 'got', 'overrun', 'looks', 'deceive', 'barely', 'got', 'how', 'grateful', 'shane', 'begin', 'express', 'go', 'words', 'falling', 'short', 'again', 'paltry', 'things', 'wood', 'clatters', 'rethink', 'log', 'cold', 'man', 'cold', 'change', 'rules', 'does', 'keep', 'fires', 'low', 'embers', 'seen', 'distance', 'said', 'cold', 'should', 'mind', 'own', 'business', 'once', 'pats', 'softly', 'sure', 'conversation', 'man', 'go', 'pull', 'damn', 'thing', 'go', 'mutters', 'christ', 'wood', 'thunks', 'sizzling', 'carol', 'sophia', 'how', 'evening', 'fine', 'fine', 'shane', 'sorry', 'fire', 'shane', 'apology', 'needed', 'good', 'night', 'appreciate', 'cooperation', 'shane', 'sighs', 'dale', 'given', 'thought', 'daryl', 'dixon', 'won', 'happy', 'hear', 'brother', 'left', 'dropped', 'key', 'cuffed', 'makes', 'glenn', 'guys', 'competition', 'mean', 'bring', 'race', 'might', 'sound', 'better', 'coming', 'white', 'guy', 'hell', 'hide', 'could', 'lie', 'truth', 'merle', 'control', 'something', 'had', 'done', 'gotten', 'killed', 'husband', 'necessary', 'merle', 'got', 'left', 'fault', 'merle', 'daryl', 'see', 'rational', 'discussion', 'had', 'word', 'wise', 'hands', 'full', 'gets', 'back', 'hunt', 'dog', 'scared', 'ran', 'ashamed', 'andrea', 'were', 'scared', 'ran', 'point', 'stopped', 'long', 'enough', 'chain', 'door', 'staircase', 'narrow', 'maybe', 'half', 'dozen', 'geeks', 'squeeze', 'time', 'enough', 'break', 'chain', 'padlock', 'point', 'dixon', 'alive', 'handcuffed', 'roof', 'found', 'love', 'dad', 'love', 'found', 'both', 'lori', 'thunder', 'rumbling', 'knew', 'would', 'getting', 'cocky', 'little', 'knew', 'walking', 'home', 'finding', 'empty', 'house', 'both', 'gone', 'sorry', 'knew', 'were', 'alive', 'how', 'photos', 'were', 'gone', 'family', 'albums', 'chuckles', 'told', 'getting', 'cocky', 'belongs', 'baby', 'really', 'thought', 'would', 'never', 'see', 'again', 'sorry', 'everything', 'feel', 'were', 'hospital', 'wanted', 'take', 'back', 'anger', 'bad', 'times', 'mistakes', 'maybe', 'got', 'second', 'chance', 'people', 'wondered', 'went', 'back', 'course', 'rain', 'pattering', 'won', 'wake', 'thunder', 'rumbling', 'bugs', 'chittering', 'kids', 'playing', 'people', 'chatting', 'morning', 'man', 'morning', 'carol', 'morning', 'morning', 'little', 'damp', 'sun', 'dry', 'time', 'washed', 'clothes', 'best', 'could', 'scrubbing', 'washboard', 'half', 'good', 'old', 'maytag', 'back', 'home', 'very', 'kind', 'tools', 'clanging', 'look', 'vultures', 'go', 'strip', 'clean', 'generators', 'need', 'every', 'drop', 'fuel', 'got', 'power', 'without', 'sorry', 'glenn', 'thought', 'drive', 'least', 'few', 'more', 'days', 'maybe', 'steal', 'another', 'someday', 'lori', 'morning', 'officer', 'rick', 'sleep', 'better', 'long', 'time', 'chuckles', 'wake', 'figured', 'could', 'use', 'god', 'been', 'thinking', 'man', 'left', 'serious', 'car', 'approaches', 'water', 'reminder', 'boil', 'before', 'use', 'asking', 'telling', 'asking', 'think', 'crazy', 'think', 'stupidest', 'way', 'break', 'son', 'woman', 'screams', 'mom', 'man', 'dad', 'lori', 'baby', 'girl', 'mama', 'mommy', 'glenn', 'rick', 'lori', 'man', 'come', 'come', 'lori', 'baby', 'mom', 'lori', 'got', 'scratched', 'cans', 'rattle', 'growling', 'gasps', 'men', 'grunting', 'first', 'had', 'never', 'come', 'far', 'mountain', 'running', 'food', 'city', 'branch', 'snaps', 'footsteps', 'jesus', 'man', 'son', 'bitch', 'deer', 'look', 'gnawed', 'kicking', 'filthy', 'disease', 'bearing', 'motherless', 'poxy', 'bastard', 'calm', 'son', 'helping', 'old', 'man', 'take', 'stupid', 'hat', 'go', 'back', 'golden', 'pond', 'been', 'tracking', 'deer', 'miles', 'drag', 'back', 'camp', 'cook', 'venison', 'think', 'think', 'cut', 'around', 'chewed', 'part', 'would', 'risk', 'sighs', 'damn', 'shame', 'got', 'squirrel', 'dozen', 'god', 'come', 'people', 'hell', 'gotta', 'brain', 'merle', 'merle', 'ugly', 'ass', 'got', 'squirrel', 'let', 'stew', 'shane', 'daryl', 'slow', 'need', 'talk', 'daryl', 'shane', 'merle', 'problem', 'atlanta', 'dead', 'shane', 'sure', 'either', 'easy', 'way', 'say', 'say', 'rick', 'grimes', 'rick', 'grimes', 'got', 'something', 'brother', 'danger', 'handcuffed', 'roof', 'hooked', 'piece', 'metal', 'hold', 'let', 'process', 'saying', 'handcuffed', 'brother', 'roof', 'left', 'grunts', 'watch', 'knife', 'shouts', 'grunting', 'shane', 'best', 'let', 'go', 'nah', 'think', 'better', 'daryl', 'grunting', 'choke', 'hold', 'illegal', 'shane', 'file', 'complaint', 'come', 'man', 'keep', 'day', 'calm', 'discussion', 'topic', 'think', 'manage', 'think', 'manage', 'shane', 'daryl', 'panting', 'whim', 'brother', 'does', 'work', 'play', 'others', 'rick', 'fault', 'had', 'key', 'dropped', 'pick', 'dropped', 'drain', 'supposed', 'make', 'feel', 'better', 'dog', 'maybe', 'look', 'chained', 'door', 'roof', 'geeks', 'padlock', 'gotta', 'count', 'something', 'hell', 'go', 'lori', 'show', 'isn', 'going', 'back', 'sighs', 'walk', 'hell', 'everybody', 'else', 'saying', 'hell', 'anybody', 'shane', 'lori', 'least', 'shane', 'knows', 'shane', 'look', 'rick', 'could', 'could', 'throw', 'bone', 'man', 'could', 'would', 'risk', 'life', 'douche', 'bag', 'merle', 'dixon', 'daryl', 'choose', 'words', 'more', 'carefully', 'douche', 'bag', 'meant', 'merle', 'dixon', 'guy', 'wouldn', 'give', 'glass', 'water', 'were', 'dying', 'thirst', 'rick', 'would', 'wouldn', 'doesn', 'interest', 'let', 'man', 'die', 'thirst', 'thirst', 'exposure', 'left', 'animal', 'caught', 'trap', 'way', 'anything', 'die', 'let', 'alone', 'human', 'being', 'daryl', 'big', 'plan', 'come', 'way', 'been', 'before', 'problem', 'said', 'fair', 'ask', 'feel', 'better', 'would', 'too', 'great', 'risk', 'three', 'men', 'dog', 'four', 'huffs', 'day', 'gets', 'better', 'better', 'dog', 'see', 'anybody', 'else', 'stepping', 'save', 'brother', 'cracker', 'ass', 'dog', 'wouldn', 'even', 'begin', 'understand', 'speak', 'language', 'dale', 'four', 'four', 'putting', 'every', 'single', 'risk', 'rick', 'come', 'saw', 'walker', 'camp', 'moving', 'cities', 'come', 'back', 'need', 'every', 'able', 'body', 'got', 'need', 'need', 'protect', 'camp', 'seems', 'really', 'need', 'most', 'more', 'guns', 'guns', 'wait', 'guns', 'six', 'shotguns', 'two', 'high', 'powered', 'rifles', 'dozen', 'handguns', 'cleaned', 'cage', 'back', 'station', 'before', 'left', 'dropped', 'bag', 'atlanta', 'got', 'swarmed', 'sitting', 'street', 'waiting', 'picked', 'ammo', 'rounds', 'assorted', 'lori', 'went', 'hell', 'find', 'got', 'turn', 'around', 'leave', 'dad', 'go', 'hell', 'guns', 'shane', 'merle', 'dixon', 'worth', 'lives', 'even', 'guns', 'thrown', 'make', 'understand', 'owe', 'debt', 'man', 'met', 'little', 'boy', 'lori', 'hadn', 'taken', 'died', 'because', 'made', 'back', 'said', 'follow', 'atlanta', 'walk', 'same', 'trap', 'warn', 'stopping', 'walkie', 'talkie', 'bag', 'dropped', 'got', 'other', 'plan', 'connect', 'got', 'closer', 'walkies', 'use', 'wrong', 'fine', 'walkies', 'suck', 'crap', 'date', 'back', 'match', 'other', 'bandwidth', 'even', 'scanners', 'cars', 'need', 'bag', 'truck', 'beeping', 'rumor', 'bolt', 'cutters', 'maybe', 'dog', 'roof', 'need', 'cut', 'chain', 'handcuffs', 'never', 'lending', 'tools', 'last', 'time', 'talking', 'let', 'say', 'bag', 'guns', 'wasn', 'only', 'bag', 'dropped', 'tools', 'got', 'left', 'merle', 'rick', 'bring', 'tools', 'back', 'too', 'think', 'bolt', 'cutters', 'investment', 'sounds', 'more', 'gamble', 'return', 'rick', 'how', 'guns', 'bring', 'back', 'pick', 'done', 'man', 'clears', 'throat', 'dale', 'let', 'sweeten', 'deal', 'cube', 'van', 'rv', 'radiator', 'hose', 'shot', 'problem', 'need', 'somewhere', 'wanna', 'very', 'far', 'hose', 'van', 'perfect', 'match', 'enough', 'make', 'fit', 'back', 'strip', 'van', 'bare', 'metal', 'truck', 'honks', 'come', 'let', 'go', 'rick', 'got', 'rounds', 'python', 'last', 'time', 'were', 'gun', 'range', 'sure', 'wound', 'few', 'loose', 'rounds', 'bag', 'bottom', 'old', 'lady', 'purse', 'hate', 'doing', 'man', 'think', 'foolish', 'reckless', 'go', 'taking', 'bullets', 'sure', 'fire', 'shot', 'city', 'after', 'happened', 'last', 'time', 'four', 'men', 'four', 'rounds', 'odds', 'let', 'hope', 'let', 'hope', 'four', 'lucky', 'number', 'truck', 'starts', 'revving', 'sniffling', 'bet', 'fine', 'worried', 'little', 'think', 'mom', 'everything', 'happened', 'far', 'killed', 'yet', 'chuckles', 'daryl', 'better', 'only', 'word', 'matter', 'told', 'geeks', 'only', 'thing', 'door', 'brakes', 'squeak', 'gear', 'shift', 'clicks', 'engine', 'stops', 'walk', 'lori', 'dale', 'seen', 'shane', 'took', 'quarry', 'mighty', 'bold', 'talk', 'catching', 'frogs', 'women', 'chatting', 'getting', 'anything', 'being', 'wily', 'staying', 'submerged', 'little', 'suckers', 'something', 'going', 'going', 'old', 'fashioned', 'way', 'little', 'man', 'look', 'key', 'go', 'after', 'scare', 'rest', 'scatter', 'drive', 'way', 'need', 'need', 'round', 'every', 'bad', 'boy', 'see', 'hells', 'give', 'mean', 'face', 'both', 'growl', 'ready', 'ready', 'go', 'boy', 'go', 'laughing', 'coming', 'way', 'coming', 'way', 'go', 'coming', 'way', 'come', 'catch', 'frogs', 'catch', 'frogs', 'coming', 'little', 'man', 'net', 'beginning', 'question', 'division', 'labor', 'coming', 'little', 'man', 'net', 'got', 'bad', 'boy', 'got', 'got', 'dirt', 'boy', 'got', 'start', 'come', 'let', 'find', 'bucket', 'both', 'laughing', 'someone', 'explain', 'how', 'women', 'wound', 'doing', 'hattie', 'mcdaniel', 'work', 'world', 'ended', 'memo', 'way', 'fence', 'clatters', 'merle', 'first', 'guns', 'merle', 'even', 'having', 'conversation', 'emphatically', 'geography', 'call', 'merle', 'closest', 'guns', 'would', 'mean', 'doubling', 'back', 'merle', 'first', 'scrubbing', 'carol', 'miss', 'maytag', 'miss', 'benz', 'sat', 'nav', 'miss', 'coffeemaker', 'dual', 'drip', 'filter', 'built', 'grinder', 'honey', 'computer', 'texting', 'miss', 'vibrator', 'jacqui', 'women', 'laugh', 'amy', 'god', 'too', 'women', 'laughing', 'louder', 'funny', 'swapping', 'war', 'stories', 'water', 'dripping', 'andrea', 'problem', 'nothin', 'concerns', 'ought', 'focus', 'work', 'comedy', 'club', 'andrea', 'huffs', 'leaving', 'dale', 'sight', 'shane', 'said', 'could', 'catch', 'frogs', 'remember', 'doesn', 'matter', 'shane', 'says', 'matters', 'say', 'go', 'back', 'camp', 'sighs', 'lori', 'got', 'think', 'should', 'taking', 'lori', 'lost', 'privilege', 'lori', 'could', 'wait', 'sec', 'think', 'should', 'talk', 'haven', 'had', 'chance', 'too', 'frogs', 'damn', 'lori', 'look', 'how', 'appears', 'think', 'how', 'appears', 'sorry', 'gray', 'area', 'let', 'dispel', 'stay', 'away', 'stay', 'away', 'son', 'look', 'talk', 'family', 'limits', 'lori', 'think', 'fair', 'shane', 'shut', 'slapping', 'think', 'husband', 'back', 'alive', 'best', 'friend', 'think', 'happy', 'how', 'dare', 'would', 'told', 'died', 'son', 'bitch', 'shuffling', 'footsteps', 'growling', 'damn', 'ugly', 'skank', 'thuds', 'scrubbing', 'how', 'laundry', 'done', 'welcome', 'pitch', 'job', 'missy', 'andrea', 'job', 'sitting', 'ass', 'smoking', 'cigarettes', 'sure', 'hell', 'listening', 'uppity', 'smart', 'mouthed', 'bitch', 'come', 'let', 'go', 'think', 'needs', 'go', 'anywhere', 'say', 'business', 'come', 'heard', 'carol', 'andrea', 'please', 'doesn', 'matter', 'think', 'won', 'knock', 'ass', 'cause', 'college', 'educated', 'cooze', 'gasps', 'come', 'regret', 'later', 'show', 'fresh', 'bruises', 'later', 'seen', 'laughs', 'stay', 'come', 'business', 'keep', 'prodding', 'bull', 'done', 'talking', 'come', 'carol', 'carol', 'mutters', 'clamoring', 'think', 'amy', 'come', 'come', 'amy', 'grunting', 'carol', 'amy', 'carol', 'women', 'yelling', 'amy', 'shane', 'stop', 'stop', 'carol', 'stop', 'stop', 'put', 'hands', 'wife', 'little', 'girl', 'anybody', 'else', 'camp', 'more', 'time', 'stop', 'next', 'time', 'hear', 'hear', 'slurs', 'beat', 'death', 'carol', 'beat', 'death', 'carol', 'crying', 'god', 'god', 'grunts', 'crying', 'sorry', 'god', 'sorry', 'sorry', 'sorry', 'sorry', 'coughing', 'chain', 'rattles', 'daryl', 'merle', 'merle', 'theme', 'music', 'playing'], ['bugs', 'chittering', 'brakes', 'squeak', 'engine', 'stops', 'trunk', 'clicks', 'bird', 'cawing', 'birds', 'chirping', 'flies', 'buzzing', 'metal', 'rattling', 'shuffling', 'footsteps', 'little', 'girl', 'policeman', 'little', 'girl', 'afraid', 'little', 'girl', 'panting', 'growling', 'god', 'theme', 'music', 'playing', 'police', 'radio', 'chatter', 'man', 'difference', 'police', 'radio', 'chatter', 'man', 'difference', 'men', 'women', 'man', 'joke', 'serious', 'man', 'never', 'met', 'woman', 'knew', 'how', 'turn', 'light', 'born', 'thinking', 'switch', 'only', 'goes', 'way', 'mutters', 'struck', 'blind', 'second', 'leave', 'room', 'mean', 'every', 'woman', 'ever', 'let', 'key', 'swear', 'god', 'come', 'home', 'house', 'lit', 'chuckles', 'job', 'see', 'apparently', 'because', 'chromosomes', 'happen', 'different', 'gotta', 'walk', 'house', 'turn', 'every', 'single', 'light', 'chick', 'left', 'baby', 'reverend', 'shane', 'preaching', 'boy', 'both', 'laugh', 'same', 'chick', 'mind', 'bitch', 'global', 'warming', 'see', 'reverend', 'shane', 'wants', 'quote', 'guy', 'gospel', 'say', 'darling', 'maybe', 'every', 'other', 'pair', 'boobs', 'planet', 'figure', 'light', 'switch', 'see', 'goes', 'both', 'ways', 'maybe', 'wouldn', 'global', 'warming', 'say', 'polite', 'version', 'laughs', 'man', 'earns', 'look', 'loathing', 'would', 'believe', 'exorcist', 'voice', 'pops', 'deep', 'voice', 'sound', 'damn', 'father', 'always', 'yelling', 'power', 'bill', 'telling', 'turn', 'damn', 'lights', 'say', 'say', 'say', 'bitch', 'mean', 'been', 'hearing', 'entire', 'life', 'too', 'damn', 'stupid', 'learn', 'how', 'turn', 'switch', 'both', 'laugh', 'actually', 'say', 'though', 'would', 'bad', 'go', 'go', 'polite', 'version', 'too', 'very', 'wise', 'how', 'lori', 'man', 'good', 'good', 'turning', 'lights', 'really', 'good', 'sometimes', 'forgets', 'meant', 'great', 'night', 'look', 'man', 'may', 'failed', 'amuse', 'sermon', 'try', 'least', 'speak', 'always', 'says', 'speak', 'speak', 'think', 'most', 'closed', 'mouth', 'son', 'bitch', 'ever', 'hear', 'express', 'thoughts', 'share', 'feelings', 'kind', 'stuff', 'thing', 'lately', 'whenever', 'try', 'everything', 'say', 'makes', 'impatient', 'hear', 'after', 'pissed', 'time', 'look', 'man', 'shit', 'couples', 'go', 'phase', 'last', 'thing', 'said', 'morning', 'sometimes', 'wonder', 'even', 'care', 'said', 'front', 'kid', 'imagine', 'going', 'school', 'head', 'difference', 'men', 'women', 'would', 'never', 'say', 'something', 'cruel', 'certainly', 'front', 'radio', 'beeps', 'dispatcher', 'available', 'units', 'high', 'speed', 'pursuit', 'progress', 'linden', 'county', 'units', 'request', 'local', 'assistance', 'highway', 'eastbound', 'gta', 'advise', 'extreme', 'caution', 'engine', 'starts', 'siren', 'blaring', 'dispatcher', 'suspects', 'two', 'male', 'caucasians', 'advised', 'fired', 'upon', 'police', 'officers', 'linden', 'county', 'officer', 'wounded', 'tires', 'screeching', 'dispatcher', 'unit', 'unit', 'eastbound', 'route', 'two', 'miles', 'west', 'interstate', 'patch', 'linden', 'county', 'sheriff', 'radio', 'man', 'radio', 'roger', 'five', 'minutes', 'south', 'route', 'intersection', 'man', 'radio', 'dispatch', 'unit', 'unit', 'code', 'highway', 'interstate', 'please', 'advise', 'man', 'radio', 'got', 'word', 'linden', 'county', 'southbound', 'tires', 'screech', 'old', 'french', 'road', 'closed', 'head', 'back', 'onto', 'guns', 'cock', 'sounds', 'chasing', 'idiots', 'every', 'back', 'road', 'got', 'maybe', 'video', 'shows', 'world', 'craziest', 'police', 'chases', 'think', 'think', 'leon', 'need', 'stay', 'focused', 'make', 'sure', 'got', 'round', 'chamber', 'safety', 'distant', 'sirens', 'would', 'kinda', 'cool', 'getting', 'shows', 'engine', 'revving', 'sirens', 'blaring', 'crashes', 'tires', 'screech', 'engine', 'putters', 'holy', 'shit', 'car', 'door', 'opens', 'gun', 'gun', 'gun', 'put', 'man', 'put', 'gun', 'grunts', 'wheezes', 'shane', 'rick', 'wheezing', 'saw', 'tagged', 'man', 'scared', 'hell', 'too', 'son', 'bitch', 'shot', 'believe', 'catch', 'vest', 'shane', 'lori', 'happened', 'ever', 'understand', 'gunshot', 'man', 'police', 'move', 'shane', 'man', 'see', 'come', 'hit', 'leon', 'ambulance', 'officer', 'look', 'stay', 'hear', 'rick', 'stay', 'hear', 'hear', 'stay', 'distant', 'sirens', 'leon', 'radio', 'dispatch', 'officer', 'request', 'paramedics', 'please', 'respond', 'route', 'two', 'miles', 'west', 'repeat', 'officer', 'request', 'immediate', 'response', 'ventilator', 'hissing', 'heart', 'monitor', 'beeping', 'labored', 'breathing', 'distorted', 'bud', 'hanging', 'sorry', 'man', 'say', 'same', 'crap', 'every', 'time', 'come', 'sighs', 'everybody', 'pitched', 'wanted', 'bring', 'send', 'love', 'hope', 'come', 'back', 'real', 'soon', 'chuckles', 'linda', 'diane', 'dispatch', 'picked', 'probably', 'could', 'set', 'side', 'table', 'silence', 'vase', 'something', 'special', 'fess', 'steal', 'grandma', 'jean', 'house', 'laughing', 'hope', 'left', 'spoon', 'collection', 'coughing', 'shane', 'rasps', 'shane', 'john', 'crackling', 'grunting', 'nurse', 'help', 'nurse', 'help', 'lights', 'humming', 'phone', 'clicks', 'clatters', 'electrical', 'humming', 'chain', 'clinking', 'door', 'rattling', 'thumping', 'moaning', 'glass', 'shatters', 'groaning', 'groaning', 'louder', 'rick', 'coughs', 'coughing', 'clangs', 'bugs', 'chittering', 'flies', 'buzzing', 'birds', 'chirping', 'bugs', 'chittering', 'hissing', 'shit', 'growling', 'lori', 'lori', 'shoot', 'lori', 'sobbing', 'lori', 'real', 'wake', 'wake', 'sniffles', 'twig', 'snaps', 'daddy', 'daddy', 'rick', 'found', 'daddy', 'got', 'sumbitch', 'smack', 'dead', 'say', 'something', 'thought', 'heard', 'say', 'something', 'called', 'son', 'talk', 'mister', 'bandage', 'kind', 'wound', 'answer', 'damn', 'wound', 'kill', 'footsteps', 'rubber', 'gloves', 'snap', 'man', 'got', 'bandage', 'changed', 'pretty', 'rank', 'wound', 'gunshot', 'gunshot', 'else', 'anything', 'gunshot', 'enough', 'look', 'ask', 'answer', 'common', 'courtesy', 'emphatically', 'chewed', 'maybe', 'scratched', 'anything', 'got', 'shot', 'shot', 'far', 'let', 'feels', 'cool', 'enough', 'fever', 'would', 'killed', 'think', 'hard', 'miss', 'take', 'moment', 'look', 'how', 'sharp', 'try', 'anything', 'kill', 'think', 'won', 'rope', 'snaps', 'knife', 'clicks', 'man', 'come', 'able', 'come', 'ladle', 'scrapes', 'rick', 'place', 'fred', 'cindy', 'drake', 'man', 'never', 'met', 'been', 'place', 'man', 'empty', 'got', 'see', 'light', 'more', 'usual', 'never', 'should', 'fired', 'gun', 'today', 'sound', 'draws', 'street', 'stupid', 'using', 'gun', 'happened', 'fast', 'think', 'shot', 'man', 'today', 'man', 'boy', 'weren', 'man', 'hell', 'mouth', 'wasn', 'man', 'shot', 'street', 'front', 'man', 'friend', 'need', 'glasses', 'walker', 'come', 'sit', 'before', 'fall', 'daddy', 'blessing', 'lord', 'thee', 'food', 'thy', 'blessings', 'ask', 'watch', 'crazy', 'days', 'amen', 'boy', 'amen', 'mister', 'even', 'going', 'woke', 'today', 'hospital', 'came', 'home', 'dead', 'people', 'saw', 'loading', 'dock', 'piled', 'trucks', 'ones', 'put', 'ones', 'walkers', 'shot', 'today', 'cause', 'ripped', 'tried', 'eat', 'taken', 'flesh', 'least', 'guess', 'first', 'hearing', 'how', 'must', 'sound', 'street', 'more', 'active', 'after', 'dark', 'sometimes', 'maybe', 'cool', 'air', 'hell', 'maybe', 'firing', 'gun', 'today', 'fine', 'long', 'stay', 'quiet', 'probably', 'wander', 'morning', 'listen', 'thing', 'saw', 'bandage', 'were', 'afraid', 'bites', 'kill', 'fever', 'burns', 'after', 'while', 'come', 'back', 'seen', 'happen', 'come', 'crickets', 'chirping', 'man', 'son', 'said', 'name', 'today', 'little', 'younger', 'boy', 'man', 'mother', 'hope', 'boy', 'dad', 'ask', 'chuckles', 'man', 'gunshot', 'got', 'little', 'bet', 'going', 'boy', 'says', 'bank', 'robber', 'chuckles', 'deadliest', 'dillinger', 'kapow', 'man', 'chuckles', 'sheriff', 'deputy', 'car', 'alarm', 'blaring', 'daddy', 'must', 'bumped', 'car', 'sure', 'happened', 'once', 'before', 'went', 'few', 'minutes', 'light', 'duane', 'alarm', 'continues', 'blue', 'street', 'same', 'last', 'time', 'think', 'noise', 'won', 'bring', 'more', 'man', 'wait', 'morning', 'gasps', 'man', 'look', 'away', 'windows', 'said', 'go', 'go', 'sobbing', 'duane', 'duane', 'quiet', 'come', 'quiet', 'cry', 'pillow', 'remember', 'footsteps', 'doorknob', 'rattling', 'died', 'other', 'room', 'bed', 'could', 'fever', 'man', 'skin', 'gave', 'heat', 'furnace', 'crying', 'should', 'should', 'put', 'man', 'should', 'put', 'mother', 'child', 'rattling', 'continues', 'rick', 'sure', 'dead', 'ask', 'least', 'more', 'time', 'man', 'dead', 'except', 'something', 'brain', 'got', 'head', 'hisses', 'growling', 'grunting', 'man', 'need', 'moment', 'alive', 'wife', 'son', 'least', 'were', 'left', 'how', 'look', 'place', 'found', 'empty', 'drawers', 'bedroom', 'packed', 'clothes', 'enough', 'travel', 'anybody', 'could', 'broken', 'stole', 'clothes', 'see', 'framed', 'photos', 'walls', 'random', 'thief', 'take', 'too', 'think', 'photo', 'albums', 'family', 'pictures', 'gone', 'photo', 'albums', 'laughs', 'wife', 'same', 'thing', 'packing', 'survival', 'gear', 'grabbing', 'photo', 'atlanta', 'bet', 'man', 'refugee', 'center', 'huge', 'said', 'before', 'broadcast', 'stopped', 'military', 'protection', 'food', 'shelter', 'told', 'people', 'go', 'said', 'safest', 'duane', 'plus', 'got', 'disease', 'place', 'center', 'disease', 'control', 'said', 'were', 'working', 'how', 'solve', 'thing', 'lock', 'clicks', 'knob', 'squeaks', 'pipes', 'groan', 'gas', 'lines', 'been', 'maybe', 'month', 'station', 'got', 'own', 'propane', 'system', 'pilot', 'duane', 'whoo', 'hoo', 'man', 'lord', 'hot', 'water', 'feels', 'good', 'laughs', 'bring', 'around', 'bring', 'bring', 'bring', 'bring', 'around', 'wet', 'take', 'whoo', 'duane', 'dressing', 'room', 'back', 'say', 'duane', 'man', 'rick', 'atlanta', 'sounds', 'good', 'deal', 'safer', 'anyway', 'people', 'man', 'were', 'headed', 'things', 'got', 'crazy', 'man', 'wouldn', 'believe', 'panic', 'streets', 'weren', 'fit', 'wife', 'travel', 'hurt', 'had', 'find', 'place', 'lay', 'low', 'after', 'died', 'stayed', 'hunkered', 'guess', 'froze', 'place', 'plan', 'move', 'haven', 'worked', 'yet', 'gone', 'missing', 'daddy', 'learn', 'shoot', 'old', 'enough', 'hell', 'learn', 'got', 'carefully', 'teach', 'respect', 'weapon', 'toy', 'pull', 'trigger', 'mean', 'always', 'remember', 'duane', 'man', 'load', 'take', 'fancy', 'scope', 'accurate', 'conserve', 'ammo', 'goes', 'faster', 'think', 'especially', 'target', 'practice', 'man', 'duane', 'take', 'car', 'sure', 'won', 'come', 'few', 'more', 'days', 'duane', 'how', 'shoot', 'won', 'rusty', 'walkie', 'talkie', 'clicks', 'whines', 'got', 'battery', 'turn', 'few', 'minutes', 'every', 'day', 'dawn', 'how', 'find', 'think', 'ahead', 'afford', 'anymore', 'man', 'listen', 'thing', 'may', 'seem', 'time', 'group', 'riled', 'hungry', 'man', 'watch', 'ass', 'too', 'good', 'man', 'rick', 'hope', 'find', 'wife', 'son', 'seeing', 'duane', 'take', 'care', 'old', 'man', 'zombie', 'growling', 'leon', 'basset', 'think', 'careless', 'dumb', 'leave', 'growls', 'hear', 'shot', 'let', 'show', 'let', 'go', 'son', 'come', 'car', 'doors', 'open', 'doors', 'close', 'engine', 'starts', 'gun', 'cocks', 'honks', 'siren', 'blares', 'bugs', 'chittering', 'engine', 'stops', 'read', 'comic', 'books', 'awhile', 'daddy', 'upstairs', 'groaning', 'whistles', 'gunshot', 'daddy', 'duane', 'stay', 'son', 'come', 'crying', 'mumbling', 'gunshot', 'jenny', 'come', 'baby', 'groaning', 'growling', 'sorry', 'happened', 'exhales', 'crying', 'come', 'come', 'come', 'crying', 'radio', 'crackles', 'broadcasting', 'emergency', 'channel', 'approaching', 'atlanta', 'highway', 'anybody', 'reads', 'please', 'respond', 'radio', 'crackles', 'hello', 'hello', 'anybody', 'hear', 'voice', 'anybody', 'anybody', 'hears', 'please', 'respond', 'hello', 'hear', 'voice', 'hello', 'hello', 'anybody', 'hear', 'voice', 'hello', 'hear', 'voice', 'hear', 'coming', 'anybody', 'reads', 'please', 'respond', 'broadcasting', 'emergency', 'channel', 'approaching', 'atlanta', 'highway', 'anybody', 'reads', 'please', 'respond', 'radio', 'crackles', 'city', 'radio', 'crackling', 'damn', 'hello', 'hello', 'hear', 'warn', 'try', 'raise', 'again', 'come', 'son', 'best', 'how', 'work', 'thing', 'hello', 'hello', 'person', 'called', 'air', 'officer', 'shane', 'walsh', 'broadcasting', 'person', 'unknown', 'please', 'respond', 'radio', 'crackling', 'gone', 'others', 'knew', 'would', 'left', 'good', 'been', 'doing', 'woman', 'been', 'saying', 'week', 'ought', 'put', 'signs', 'warn', 'people', 'away', 'city', 'folks', 'got', 'idea', 'getting', 'haven', 'had', 'time', 'think', 'need', 'make', 'time', 'luxury', 'afford', 'surviving', 'day', 'day', 'hell', 'would', 'propose', 'send', 'go', 'give', 'vehicle', 'goes', 'anywhere', 'alone', 'go', 'take', 'seat', 'bud', 'go', 'pissed', 'pissed', 'change', 'anything', 'putting', 'danger', 'doing', 'anything', 'make', 'feel', 'sometimes', 'slap', 'upside', 'head', 'girl', 'feel', 'need', 'go', 'ahead', 'go', 'cannot', 'walk', 'half', 'cocked', 'look', 'sake', 'sake', 'fine', 'boy', 'has', 'been', 'too', 'losing', 'mother', 'too', 'good', 'mom', 'chuckles', 'hard', 'boy', 'mom', 'shane', 'bud', 'go', 'worry', 'mama', 'going', 'anywhere', 'go', 'finish', 'chores', 'trunk', 'clicks', 'hello', 'police', 'officer', 'borrow', 'gas', 'wind', 'chime', 'tinkling', 'hello', 'knocks', 'hello', 'anybody', 'home', 'flies', 'buzzing', 'spits', 'horse', 'nickers', 'neighs', 'easy', 'easy', 'hurt', 'more', 'proposal', 'atlanta', 'road', 'ways', 'safe', 'food', 'shelter', 'people', 'other', 'horses', 'too', 'bet', 'how', 'sound', 'softly', 'go', 'good', 'boy', 'good', 'boy', 'good', 'boy', 'come', 'come', 'come', 'come', 'come', 'good', 'boy', 'go', 'easy', 'haven', 'done', 'years', 'neighs', 'easy', 'easy', 'boy', 'easy', 'easy', 'easy', 'easy', 'eas', 'let', 'go', 'birds', 'cawing', 'bugs', 'chittering', 'whinnies', 'growling', 'whinnies', 'horse', 'whinnies', 'rick', 'steady', 'few', 'outrun', 'nickers', 'birds', 'cawing', 'helicopter', 'approaching', 'neighs', 'zombies', 'groaning', 'whinnying', 'growling', 'shit', 'god', 'god', 'god', 'shoot', 'god', 'god', 'lori', 'sorry', 'panting', 'god', 'growling', 'gunshot', 'echoes', 'high', 'pitched', 'ringing', 'god', 'muffled', 'growling', 'ringing', 'fading', 'pounding', 'pounding', 'radio', 'crackling', 'man', 'radio', 'dumbass', 'tank', 'cozy', 'pop', 'music', 'playing', 'drifting', 'spaceway', 'betelgeuse', 'hotel', 'mapping', 'constellations', 'place', 'sifting', 'system', 'piece', 'knows', 'name', 'endlessly', 'listen', 'master', 'game', 'welcome', 'world', 'welcome', 'world', 'welcome', 'only', 'world', 'welcome', 'only', 'world', 'full', 'space', 'junk', 'echoing', 'words', 'coming', 'riding', 'space', 'junk', 'bringing', 'riding', 'space', 'junk', 'bringing', 'bringing', 'bringing', 'girl', 'bringing', 'bringing', 'bringing'], ['walkie', 'talkie', 'squawks', 'rick', 'morgan', 'hear', 'maybe', 'listening', 'hope', 'found', 'others', 'family', 'believe', 'static', 'wife', 'son', 'alive', 'wanted', 'something', 'else', 'need', 'atlanta', 'isn', 'thought', 'promised', 'city', 'enter', 'city', 'belongs', 'dead', 'camped', 'few', 'miles', 'northwest', 'big', 'abandoned', 'rock', 'quarry', 'see', 'map', 'hope', 'come', 'find', 'careful', 'last', 'night', 'walkers', 'came', 'woods', 'lost', 'people', 'watch', 'morgan', 'take', 'care', 'boy', 'try', 'again', 'tomorrow', 'dawn', 'static', 'andrea', 'sorry', 'gone', 'got', 'let', 'take', 'cared', 'promise', 'gentle', 'grunts', 'coughing', 'won', 'move', 'lori', 'won', 'even', 'talk', 'been', 'night', 'leave', 'amy', 'need', 'deal', 'same', 'others', 'how', 'andrea', 'cocks', 'how', 'safety', 'works', 'sorry', 'sorry', 'sorry', 'theme', 'music', 'playing', 'daryl', 'serious', 'let', 'girl', 'hamstring', 'dead', 'girl', 'time', 'bomb', 'rick', 'suggest', 'take', 'shot', 'clean', 'brain', 'hell', 'hit', 'turkey', 'eyes', 'distance', 'god', 'sakes', 'let', 'scoffs', 'wake', 'jimbo', 'got', 'work', 'panting', 'morales', 'thanks', 'thanks', 'guys', 'doing', 'geeks', 'people', 'go', 'daryl', 'difference', 'infected', 'glenn', 'people', 'go', 'row', 'burn', 'bury', 'understand', 'people', 'go', 'row', 'reap', 'sow', 'morales', 'shut', 'man', 'left', 'brother', 'dead', 'had', 'coming', 'bleeding', 'got', 'bodies', 'blood', 'fresh', 'were', 'jim', 'got', 'scratched', 'during', 'attack', 'got', 'fine', 'show', 'whispers', 'please', 'walker', 'got', 'walker', 'jim', 'jim', 'show', 'show', 'chattering', 'shane', 'easy', 'jim', 'daryl', 'grab', 'jim', 'put', 'put', 'breathing', 'heavily', 'say', 'put', 'pickaxe', 'head', 'dead', 'girl', 'done', 'were', 'while', 'hate', 'say', 'never', 'thought', 'would', 'maybe', 'daryl', 'jim', 'monster', 'dale', 'rabid', 'dog', 'suggesting', 'sick', 'sick', 'man', 'start', 'road', 'draw', 'line', 'line', 'pretty', 'clear', 'zero', 'tolerance', 'walkers', 'help', 'heard', 'cdc', 'working', 'cure', 'heard', 'too', 'heard', 'things', 'before', 'world', 'went', 'hell', 'cdc', 'running', 'man', 'stretch', 'rick', 'government', 'left', 'structure', 'protect', 'cdc', 'costs', 'wouldn', 'think', 'best', 'shot', 'shelter', 'protection', 'rick', 'things', 'too', 'exist', 'army', 'base', 'fort', 'benning', 'miles', 'opposite', 'direction', 'away', 'hot', 'zone', 'listen', 'place', 'operational', 'heavily', 'armed', 'safe', 'rick', 'military', 'were', 'front', 'lines', 'thing', 'got', 'overrun', 'seen', 'cdc', 'best', 'choice', 'jim', 'only', 'chance', 'go', 'looking', 'aspirin', 'need', 'someone', 'needs', 'balls', 'take', 'care', 'damn', 'problem', 'kill', 'living', 'funny', 'coming', 'man', 'put', 'gun', 'head', 'may', 'disagree', 'things', 'put', 'go', 'come', 'taking', 'somewhere', 'safe', 'came', 'pay', 'respects', 'ever', 'mention', 'how', 'lost', 'wife', 'cancer', 'wasn', 'dragged', 'every', 'doctor', 'every', 'test', 'after', 'surgeries', 'chemos', 'ready', 'accepted', 'never', 'could', 'spent', 'last', 'few', 'years', 'angry', 'felt', 'cheated', 'passed', 'girls', 'were', 'first', 'people', 'cared', 'anything', 'birthday', 'birthday', 'always', 'week', 'long', 'affair', 'somehow', 'always', 'missed', 'away', 'college', 'too', 'busy', 'kid', 'parties', 'call', 'excited', 'always', 'said', 'make', 'home', 'really', 'always', 'meant', 'never', 'made', 'past', 'phone', 'call', 'things', 'hard', 'enough', 'without', 'adding', 'guilt', 'mix', 'head', 'squishes', 'husband', 'crying', 'groans', 'grunting', 'sobbing', 'shallow', 'breathing', 'breathing', 'amy', 'amy', 'sorry', 'sorry', 'ever', 'being', 'always', 'thought', 'more', 'time', 'growling', 'amy', 'love', 'gunshot', 'say', 'thinking', 'stayed', 'looked', 'after', 'own', 'instead', 'went', 'took', 'half', 'manpower', 'thinking', 'maybe', 'losses', 'wouldn', 'been', 'bad', 'hadn', 'gone', 'brought', 'guns', 'back', 'think', 'losses', 'would', 'been', 'worse', 'maybe', 'entire', 'camp', 'truck', 'approaching', 'exhales', 'think', 'mistake', 'burning', 'bodies', 'said', 'burn', 'wasn', 'idea', 'shane', 'first', 'chinaman', 'gets', 'emotional', 'says', 'thing', 'follow', 'people', 'need', 'hell', 'charge', 'rules', 'rules', 'lori', 'problem', 'haven', 'had', 'minute', 'hold', 'onto', 'anything', 'old', 'selves', 'need', 'time', 'mourn', 'need', 'bury', 'dead', 'people', 'please', 'groans', 'panting', 'zombies', 'growling', 'people', 'scream', 'panting', 'crying', 'crying', 'dale', 'panting', 'burying', 'other', 'people', 'bad', 'enough', 'thought', 'lori', 'safe', 'dad', 'together', 'won', 'leave', 'again', 'promise', 'anything', 'give', 'chance', 'discuss', 'things', 'mom', 'rick', 'shane', 'blames', 'being', 'got', 'guns', 'stronger', 'fewer', 'people', 'makes', 'weaker', 'say', 'think', 'were', 'understand', 'say', 'entirely', 'wrong', 'best', 'cdc', 'rick', 'ragged', 'edge', 'need', 'relief', 'got', 'sick', 'man', 'needs', 'help', 'people', 'see', 'look', 'faces', 'look', 'terrified', 'suggested', 'based', 'hunch', 'head', 'toward', 'city', 'part', 'something', 'certainty', 'love', 'got', 'love', 'too', 'door', 'opens', 'knocks', 'fever', 'worse', 'need', 'anything', 'water', 'could', 'use', 'more', 'water', 'lori', 'lori', 'carol', 'help', 'save', 'grave', 'wants', 'jim', 'sound', 'hear', 'god', 'laughing', 'while', 'make', 'plans', 'jim', 'god', 'allows', 'help', 'groans', 'coughing', 'spits', 'groans', 'inhales', 'deeply', 'coughs', 'watch', 'mangroves', 'roots', 'gouge', 'whole', 'boat', 'amy', 'swimming', 'watch', 'boat', 'said', 'would', 'watch', 'boat', 'worry', 'need', 'help', 'talk', 'sense', 'rick', 'look', 'cdc', 'thing', 'lori', 'mistake', 'backing', 'else', 'would', 'husband', 'look', 'may', 'time', 'play', 'dutiful', 'wife', 'fixing', 'marriage', 'worth', 'putting', 'people', 'lives', 'risk', 'think', 'folks', 'around', 'make', 'minds', 'without', 'bringing', 'marriage', 'habit', 'need', 'break', 'guess', 'add', 'list', 'habits', 'breaking', 'whether', 'habits', 'talking', 'need', 'plan', 'man', 'leaving', 'maybe', 'stay', 'could', 'hang', 'more', 'tin', 'cans', 'stay', 'both', 'telling', 'shane', 'think', 'should', 'trust', 'gut', 'let', 'go', 'sweep', 'shane', 'man', 'people', 'man', 'convinced', 'head', 'cdc', 'might', 'own', 'gotta', 'really', 'consider', 'whether', 'put', 'lori', 'kind', 'spot', 'got', 'best', 'family', 'best', 'family', 'exposing', 'kinds', 'risks', 'opposed', 'crossing', 'miles', 'hostile', 'territory', 'looking', 'lifeline', 'say', 'swim', 'toward', 'closest', 'ship', 'further', 'sea', 'back', 'shane', 'look', 'see', 'family', 'feel', 'differently', 'say', 'kept', 'safe', 'man', 'looked', 'after', 'were', 'were', 'own', 'rick', 'shane', 'mean', 'way', 'how', 'mean', 'go', 'man', 'how', 'mean', 'sighs', 'misinterpreting', 'man', 'hearing', 'wrong', 'look', 'never', 'repay', 'debt', 'branch', 'snaps', 'jesus', 'chuckles', 'start', 'wearing', 'reflective', 'vests', 'seriously', 'come', 'man', 'come', 'man', 'let', 'go', 'shane', 'been', 'thinking', 'rick', 'plan', 'look', 'guarantees', 'either', 'way', 'first', 'admit', 'known', 'man', 'long', 'time', 'trust', 'instincts', 'say', 'most', 'important', 'thing', 'need', 'stay', 'together', 'agree', 'leave', 'first', 'thing', 'morning', 'walkie', 'talkie', 'squawks', 'moving', 'leaving', 'quarry', 'heard', 'yesterday', 'may', 'coming', 'gone', 'time', 'arrive', 'leaving', 'note', 'map', 'taped', 'red', 'car', 'follow', 'trail', 'heading', 'cdc', 'anything', 'left', 'got', 'think', 'morgan', 'hope', 'were', 'place', 'need', 'gasps', 'muffled', 'talking', 'coughs', 'shane', 'everybody', 'listen', 'cbs', 'channel', 'let', 'keep', 'chatter', 'got', 'problem', 'signal', 'anything', 'hit', 'horn', 'time', 'stop', 'caravan', 'questions', 'morales', 'going', 'woman', 'family', 'birmingham', 'people', 'go', 'own', 'won', 'anyone', 'watch', 'back', 'morales', 'take', 'chance', 'got', 'best', 'family', 'sure', 'morales', 'talked', 'sure', 'shane', 'shane', 'rick', 'box', 'half', 'full', 'everything', 'lori', 'come', 'crying', 'shane', 'good', 'luck', 'man', 'morales', 'appreciate', 'shane', 'bye', 'sophia', 'crying', 'woman', 'bye', 'channel', 'change', 'minds', 'carol', 'makes', 'think', 'odds', 'better', 'come', 'let', 'go', 'let', 'move', 'engines', 'start', 'groaning', 'hissing', 'told', 'never', 'far', 'hose', 'said', 'needed', 'cube', 'van', 'jury', 'rig', 'been', 'far', 'more', 'duct', 'tape', 'hose', 'duct', 'tape', 'shane', 'see', 'something', 'ahead', 'gas', 'station', 'lucky', 'jim', 'bad', 'think', 'take', 'anymore', 'rick', 'hold', 'fort', 'drive', 'ahead', 'see', 'bring', 'back', 'dog', 'come', 'too', 'back', 'shane', 'keep', 'eyes', 'open', 'back', 'jeep', 'door', 'opens', 'closes', 'engine', 'starts', 'revs', 'back', 'road', 'soon', 'jim', 'christ', 'bones', 'bones', 'glass', 'every', 'little', 'bump', 'god', 'ride', 'killing', 'leave', 'done', 'leave', 'family', 'dead', 'think', 'asking', 'fever', 'been', 'delirious', 'more', 'often', 'think', 'groans', 'clear', 'five', 'minutes', 'may', 'rick', 'asking', 'leave', 'decision', 'failure', 'says', 'wants', 'lucid', 'seems', 'would', 'say', 'dale', 'back', 'camp', 'said', 'daryl', 'might', 'shut', 'misunderstood', 'would', 'never', 'go', 'callously', 'killing', 'man', 'suggest', 'ask', 'jim', 'wants', 'think', 'answer', 'shane', 'leave', 'take', 'man', 'sure', 'could', 'live', 'lori', 'call', 'either', 'rick', 'jim', 'groans', 'breathing', 'heavily', 'another', 'damn', 'tree', 'chuckles', 'jim', 'mean', 'doesn', 'need', 'good', 'breeze', 'feels', 'nice', 'close', 'eyes', 'sweetie', 'fight', 'jim', 'jim', 'need', 'thanks', 'fighting', 'breathing', 'loudly', 'cars', 'starting', 'beeping', 'jenner', 'day', 'wildfire', 'declared', 'days', 'disease', 'abruptly', 'went', 'global', 'clinical', 'progress', 'report', 'item', 'finally', 'got', 'scrubbers', 'east', 'sector', 'shut', 'save', 'power', 'wish', 'could', 'done', 'month', 'ago', 'took', 'long', 'figure', 'too', 'bad', 'never', 'studied', 'engineering', 'could', 'saved', 'amps', 'item', 'sleeping', 'seem', 'keep', 'regular', 'hours', 'living', 'underground', 'doesn', 'help', 'knowing', 'day', 'night', 'feeling', 'very', 'kilter', 'days', 'beeping', 'beeps', 'door', 'hisses', 'classical', 'score', 'playing', 'beeps', 'computer', 'beeps', 'alarm', 'blaring', 'computer', 'voice', 'alert', 'status', 'air', 'qualifiers', 'indicate', 'corrosive', 'fumes', 'personnel', 'must', 'clear', 'room', 'corrosive', 'element', 'deemed', 'poisonous', 'inhaled', 'personnel', 'clear', 'full', 'decontamination', 'effect', 'full', 'decontamination', 'complete', 'ts', 'samples', 'gone', 'tragedy', 'loss', 'cannot', 'overstated', 'were', 'freshest', 'samples', 'far', 'other', 'samples', 'gathered', 'even', 'came', 'close', 'necrotic', 'useless', 'dead', 'flesh', 'even', 'talking', 'bet', 'isn', 'single', 'son', 'bitch', 'listening', 'fine', 'saves', 'embarrassment', 'think', 'tomorrow', 'blow', 'brains', 'haven', 'decided', 'tonight', 'getting', 'drunk', 'pouring', 'drink', 'speaking', 'how', 'far', 'think', 'chuck', 'pretty', 'far', 'bet', 'glass', 'shatters', 'stadium', 'flies', 'buzzing', 'people', 'coughing', 'cocks', 'gun', 'shane', 'whispering', 'everybody', 'keep', 'moving', 'go', 'stay', 'quiet', 'let', 'go', 'chattering', 'rick', 'keep', 'moving', 'stay', 'together', 'keep', 'moving', 'come', 'shane', 'lori', 'carol', 'rick', 'glenn', 'god', 'alarm', 'beeping', 'rick', 'keep', 'together', 'come', 'lori', 'almost', 'baby', 'almost', 'rattles', 'shane', 'pounds', 'door', 'dog', 'shutters', 'daryl', 'walkers', 'lori', 'baby', 'come', 'guns', 'cock', 'child', 'whimpering', 'daryl', 'led', 'graveyard', 'dale', 'made', 'call', 'daryl', 'wrong', 'damn', 'call', 'shut', 'hear', 'shut', 'shut', 'rick', 'dead', 'end', 'go', 'shane', 'hear', 'blame', 'close', 'city', 'after', 'dark', 'fort', 'benning', 'rick', 'option', 'andrea', 'food', 'fuel', 'miles', 'checked', 'map', 'lori', 'forget', 'fort', 'benning', 'need', 'answers', 'tonight', 'think', 'something', 'glenn', 'come', 'let', 'go', 'dog', 'let', 'glenn', 'let', 'go', 'please', 'whirrs', 'shane', 'back', 'cars', 'let', 'go', 'move', 'camera', 'moved', 'imagined', 'moved', 'moved', 'rick', 'dead', 'man', 'automated', 'device', 'gears', 'winding', 'come', 'go', 'away', 'shane', 'man', 'listen', 'look', 'around', 'place', 'dead', 'dead', 'need', 'let', 'go', 'rick', 'lori', 'rick', 'hear', 'shane', 'back', 'cars', 'rick', 'please', 'desperate', 'please', 'help', 'women', 'children', 'food', 'hardly', 'gas', 'left', 'rick', 'nowhere', 'else', 'go', 'pounds', 'door', 'shane', 'keep', 'eyes', 'open', 'let', 'killing', 'please', 'shane', 'come', 'buddy', 'let', 'go', 'let', 'go', 'rick', 'please', 'help', 'people', 'shouting', 'killing', 'killing', 'killing', 'clangs', 'gas', 'hissing', 'theme', 'music', 'playing'], ['birds', 'chirping', 'bugs', 'chittering', 'boy', 'mom', 'pots', 'rattling', 'luck', 'how', 'poison', 'only', 'sure', 'way', 'ask', 'shane', 'gets', 'back', 'got', 'dale', 'heading', 'sweetheart', 'stay', 'dale', 'see', 'mom', 'dale', 'too', 'wander', 'too', 'far', 'stay', 'shouting', 'distance', 'see', 'anything', 'holler', 'come', 'running', 'softly', 'mom', 'bugs', 'chittering', 'leaves', 'rustle', 'bird', 'wings', 'flap', 'branch', 'snaps', 'gasps', 'wings', 'flap', 'branches', 'snapping', 'gasps', 'panting', 'chuckles', 'scared', 'hell', 'bet', 'keeping', 'waiting', 'trying', 'quiet', 'been', 'amy', 'mushroom', 'queen', 'had', 'wait', 'back', 'how', 'time', 'enough', 'moans', 'both', 'moaning', 'come', 'both', 'grunting', 'theme', 'music', 'playing', 'zombies', 'growling', 'moaning', 'radio', 'beeping', 'hissing', 'pounding', 'man', 'radio', 'alive', 'thuds', 'grunts', 'hello', 'hello', 'man', 'sighs', 'had', 'wondering', 'see', 'man', 'see', 'surrounded', 'walkers', 'bad', 'news', 'good', 'news', 'man', 'listen', 'whoever', 'mind', 'telling', 'little', 'concerned', 'man', 'man', 'should', 'see', 'having', 'major', 'freak', 'got', 'advice', 'man', 'say', 'make', 'run', 'make', 'run', 'man', 'way', 'dumb', 'sounds', 'got', 'eyes', 'geek', 'tank', 'others', 'climbed', 'joined', 'feeding', 'frenzy', 'horse', 'went', 'far', 'far', 'street', 'other', 'side', 'tank', 'less', 'crowded', 'move', 'while', 'distracted', 'stand', 'chance', 'got', 'ammo', 'duffel', 'bag', 'dropped', 'guns', 'man', 'forget', 'bag', 'option', 'hang', 'gun', 'clicks', 'clatters', 'got', 'beretta', 'clip', 'rounds', 'make', 'count', 'jump', 'side', 'tank', 'keep', 'going', 'direction', 'alley', 'street', 'maybe', 'yards', 'name', 'been', 'listening', 'running', 'time', 'breathing', 'heavily', 'growling', 'groans', 'zombies', 'moaning', 'gunshots', 'dead', 'come', 'come', 'back', 'come', 'come', 'gunshot', 'doing', 'come', 'growling', 'come', 'both', 'panting', 'nice', 'moves', 'clint', 'eastwood', 'new', 'sheriff', 'come', 'riding', 'clean', 'town', 'wasn', 'intention', 'whatever', 'yeehaw', 'dumbass', 'rick', 'thanks', 'glenn', 'welcome', 'growling', 'bright', 'side', 'fall', 'kills', 'glass', 'half', 'full', 'kind', 'guy', 'rick', 'barricaded', 'alley', 'somebody', 'guess', 'city', 'got', 'overrun', 'whoever', 'thinking', 'geeks', 'would', 'back', 'tank', 'stick', 'neck', 'call', 'foolish', 'naive', 'hope', 'ever', 'far', 'shit', 'creek', 'somebody', 'might', 'same', 'guess', 'even', 'bigger', 'dumbass', 'back', 'got', 'guest', 'plus', 'four', 'geeks', 'alley', 'zombies', 'growling', 'glenn', 'let', 'go', 'men', 'grunting', 'man', 'morales', 'let', 'go', 'woman', 'son', 'bitch', 'ought', 'kill', 'chill', 'andrea', 'back', 'come', 'ease', 'andrea', 'ease', 'kidding', 'dead', 'because', 'stupid', 'asshole', 'andrea', 'said', 'back', 'hell', 'pull', 'trigger', 'dead', 'because', 'understand', 'look', 'came', 'city', 'scavenge', 'supplies', 'key', 'scavenging', 'surviving', 'key', 'surviving', 'sneaking', 'tiptoeing', 'shooting', 'streets', 'corral', 'every', 'geek', 'miles', 'around', 'heard', 'popping', 'rounds', 'rang', 'dinner', 'bell', 'morales', 'picture', 'growling', 'andrea', 'god', 'hell', 'were', 'doing', 'anyway', 'trying', 'flag', 'helicopter', 'man', 'helicopter', 'man', 'crap', 'damn', 'helicopter', 'woman', 'were', 'chasing', 'hallucination', 'imagining', 'things', 'happens', 'saw', 'morales', 'dog', 'try', 'contact', 'others', 'others', 'refugee', 'center', 'refugee', 'center', 'got', 'biscuits', 'waiting', 'oven', 'got', 'signal', 'maybe', 'roof', 'gun', 'firing', 'dixon', 'woman', 'maniac', 'doing', 'morales', 'come', 'let', 'go', 'gun', 'firing', 'dixon', 'crazy', 'dixon', 'laughing', 'gun', 'fires', 'andrea', 'jeez', 'ought', 'more', 'polite', 'man', 'gun', 'only', 'common', 'sense', 'laughing', 'man', 'wasting', 'bullets', 'even', 'got', 'man', 'bringing', 'even', 'more', 'ass', 'man', 'chill', 'bad', 'enough', 'got', 'taco', 'bender', 'ass', 'day', 'take', 'orders', 'think', 'bro', 'day', 'day', 'got', 'something', 'dog', 'man', 'leave', 'worth', 'merle', 'relax', 'got', 'enough', 'trouble', 'merle', 'day', 'day', 'yo', 'day', 'take', 'orders', 'nigger', 'mother', 'morales', 'come', 'merle', 'enough', 'andrea', 'come', 'come', 'shouting', 'andrea', 'dixon', 'dixon', 'morales', 'cut', 'man', 'andrea', 'stop', 'dixon', 'come', 'dixon', 'hurt', 'morales', 'merle', 'cut', 'grunts', 'please', 'please', 'thunder', 'rumbling', 'dog', 'grunting', 'yells', 'grunts', 'little', 'powwow', 'talk', 'charge', 'vote', 'anybody', 'else', 'democracy', 'time', 'show', 'hands', 'favor', 'come', 'let', 'see', 'andrea', 'come', 'favor', 'good', 'means', 'boss', 'anybody', 'else', 'anybody', 'rick', 'grunting', 'hell', 'man', 'officer', 'friendly', 'look', 'merle', 'things', 'different', 'niggers', 'anymore', 'dumb', 'shit', 'inbred', 'white', 'trash', 'fools', 'either', 'only', 'dark', 'meat', 'white', 'meat', 'dead', 'survive', 'pulling', 'together', 'apart', 'screw', 'man', 'see', 'make', 'habit', 'missing', 'point', 'screw', 'twice', 'ought', 'polite', 'man', 'gun', 'only', 'common', 'sense', 'wouldn', 'cop', 'anymore', 'man', 'looking', 'wife', 'son', 'anybody', 'gets', 'way', 'lose', 'give', 'moment', 'think', 'pats', 'got', 'nose', 'arrest', 'laughs', 'dude', 'doing', 'man', 'stuff', 'grunts', 'loose', 'better', 'pray', 'hear', 'pig', 'hear', 'voice', 'carries', 'merle', 'hear', 'filthy', 'pig', 'atlanta', 'road', 'ways', 'chuckles', 'officer', 'friendly', 'road', 'ways', 'welcome', 'big', 'city', 'thunder', 'rumbling', 'zombies', 'moaning', 'god', 'times', 'square', 'morales', 'how', 'signal', 'dog', 'dixon', 'brain', 'weak', 'morales', 'keep', 'trying', 'andrea', 'damn', 'thing', 'got', 'people', 'city', 'refugee', 'center', 'pipe', 'dream', 'rick', 'own', 'find', 'way', 'merle', 'good', 'luck', 'streets', 'safe', 'part', 'town', 'hear', 'sugar', 'tits', 'honeybunch', 'say', 'cuffs', 'go', 'somewhere', 'bump', 'uglies', 'die', 'anyway', 'rather', 'rug', 'muncher', 'figured', 'streets', 'safe', 'understatement', 'streets', 'sewers', 'morales', 'man', 'glenn', 'check', 'alley', 'see', 'manhole', 'covers', 'growling', 'thunder', 'rumbling', 'must', 'street', 'geeks', 'maybe', 'old', 'building', 'built', 'big', 'structures', 'often', 'had', 'drainage', 'tunnels', 'sewers', 'case', 'flooding', 'subbasements', 'glenn', 'how', 'job', 'worked', 'city', 'zoning', 'office', 'morales', 'sure', 'glenn', 'really', 'scoped', 'place', 'other', 'times', 'only', 'thing', 'building', 'goes', 'never', 'gone', 'great', 'won', 'think', 'wasn', 'speak', 'mind', 'look', 'until', 'always', 'came', 'grab', 'few', 'things', 'problem', 'first', 'time', 'bring', 'group', 'everything', 'goes', 'hell', 'offense', 'go', 'gnarly', 'hole', 'fine', 'only', 'way', 'tight', 'run', 'something', 'quick', 'jammed', 'getting', 'killed', 'take', 'person', 'either', 'got', 'merle', 'gun', 'seen', 'shoot', 'feel', 'better', 'were', 'store', 'watching', 'doors', 'covering', 'ass', 'got', 'only', 'other', 'gun', 'should', 'go', 'wingman', 'jacqui', 'stays', 'something', 'happens', 'yell', 'back', 'hurry', 'everybody', 'knows', 'theirjobs', 'water', 'splashing', 'rats', 'squeaking', 'rat', 'squeals', 'dah', 'zombies', 'banging', 'growling', 'zombies', 'banging', 'growling', 'sorry', 'gun', 'face', 'people', 'things', 'afraid', 'entirely', 'unjustified', 'would', 'make', 'start', 'next', 'time', 'though', 'take', 'safety', 'won', 'shoot', 'otherwise', 'gun', 'gift', 'little', 'red', 'dot', 'means', 'ready', 'fire', 'may', 'occasion', 'use', 'good', 'dog', 'anybody', 'thunder', 'rumbling', 'hello', 'anybody', 'read', 'hoping', 'hear', 'somebody', 'voice', 'cause', 'getting', 'sick', 'tired', 'hearing', 'makes', 'two', 'knock', 'crap', 'giving', 'headache', 'boy', 'pull', 'head', 'ass', 'maybe', 'headache', 'go', 'away', 'merle', 'chuckles', 'try', 'positivity', 'change', 'damn', 'cuffs', 'sammy', 'sunshine', 'positive', 'see', 'hacksaw', 'toolbag', 'make', 'worth', 'while', 'say', 'man', 'come', 'things', 'beat', 'ass', 'again', 'call', 'nigger', 'more', 'come', 'wasn', 'personal', 'kind', 'kind', 'meant', 'mix', 'mean', 'work', 'together', 'parley', 'long', 'kind', 'mutual', 'gain', 'involved', 'hacksaw', 'guess', 'rifle', 'too', 'shoot', 'cop', 'comes', 'back', 'door', 'clangs', 'rats', 'squeaking', 'morales', 'got', 'sewer', 'tunnel', 'jacqui', 'cut', 'morales', 'had', 'blowtorch', 'half', 'day', 'sure', 'dale', 'hacksaw', 'sure', 'hell', 'won', 'rats', 'squeaking', 'crunching', 'growling', 'zombies', 'banging', 'growling', 'andrea', 'see', 'something', 'someone', 'would', 'sister', 'kid', 'ways', 'unicorns', 'dragons', 'stuff', 'mermaids', 'rule', 'loves', 'mermaids', 'take', 'cop', 'staring', 'chuckles', 'would', 'considered', 'looting', 'think', 'rules', 'apply', 'anymore', 'glass', 'shatters', 'find', 'way', 'need', 'find', 'way', 'soon', 'thunder', 'rumbling', 'construction', 'site', 'trucks', 'always', 'keep', 'keys', 'hand', 'morales', 'never', 'make', 'past', 'walkers', 'got', 'tank', 'were', 'feeding', 'were', 'distracted', 'rick', 'distract', 'again', 'merle', 'listen', 'onto', 'something', 'diversion', 'hogan', 'heroes', 'god', 'give', 'rest', 'drawn', 'sound', 'dogs', 'hear', 'sound', 'come', 'rick', 'else', 'aside', 'hear', 'see', 'smell', 'catch', 'eat', 'smell', 'glenn', 'smell', 'dead', 'pretty', 'distinct', 'bad', 'ideas', 'were', 'olympic', 'event', 'would', 'take', 'gold', 'stop', 'take', 'time', 'think', 'how', 'time', 'already', 'got', 'set', 'doors', 'glass', 'won', 'hold', 'forever', 'zombies', 'growling', 'sighs', 'wayne', 'dunlap', 'georgia', 'license', 'born', 'had', 'pocket', 'died', 'picture', 'pretty', 'girl', 'love', 'rachel', 'used', 'worrying', 'bills', 'rent', 'super', 'bowl', 'ever', 'find', 'family', 'wayne', 'glenn', 'more', 'thing', 'organ', 'donor', 'grunts', 'madre', 'de', 'dios', 'chopping', 'glenn', 'god', 'damn', 'god', 'andrea', 'groan', 'morales', 'dios', 'god', 'groaning', 'groans', 'keep', 'chopping', 'glenn', 'groaning', 'hurl', 'later', 'andrea', 'everybody', 'got', 'gloves', 'skin', 'eyes', 'groaning', 'glenn', 'god', 'jeez', 'bad', 'really', 'bad', 'think', 'something', 'else', 'puppies', 'kittens', 'dead', 'puppies', 'kittens', 'vomiting', 'evil', 'wrong', 'next', 'time', 'let', 'cracker', 'beat', 'ass', 'dog', 'sorry', 'yo', 'glenn', 'suck', 'smell', 'glenn', 'case', 'make', 'back', 'ready', 'merle', 'dixon', 'rick', 'give', 'axe', 'nee', 'need', 'more', 'guts', 'andrea', 'god', 'door', 'creaks', 'zombies', 'moaning', 'growling', 'zombies', 'groaning', 'merle', 'happening', 'man', 'morales', 'dog', 'try', 'merle', 'come', 'talk', 'base', 'camp', 'dog', 'anybody', 'hear', 'anybody', 'hear', 'thunder', 'rumbling', 'asshole', 'street', 'handcuff', 'keys', 'boy', 'hose', 'isn', 'long', 'world', 'man', 'dale', 'hell', 'find', 'replacement', 'late', 'should', 'been', 'back', 'worrying', 'won', 'make', 'better', 'shane', 'attaboy', 'shane', 'three', 'two', 'pull', 'both', 'laugh', 'shane', 'start', 'make', 'other', 'way', 'around', 'finger', 'oops', 'good', 'tie', 'around', 'finger', 'attaboy', 'radio', 'squawking', 'dog', 'hello', 'base', 'camp', 'anybody', 'hear', 'base', 'camp', 'dog', 'anybody', 'hear', 'hello', 'hello', 'reception', 'bad', 'end', 'repeat', 'repeat', 'shane', 'static', 'dog', 'deep', 'shit', 'trapped', 'department', 'store', 'say', 'trapped', 'dog', 'geeks', 'place', 'hundreds', 'surrounded', 'dog', 'repeat', 'last', 'repeat', 'static', 'radio', 'stops', 'said', 'department', 'store', 'dale', 'heard', 'too', 'lori', 'shane', 'way', 'go', 'after', 'risk', 'rest', 'group', 'leave', 'look', 'amy', 'easy', 'volunteered', 'go', 'help', 'rest', 'knew', 'risks', 'see', 'trapped', 'gone', 'deal', 'sister', 'son', 'bitch', 'thunder', 'rumbling', 'lori', 'amy', 'come', 'buddy', 'moaning', 'whispers', 'work', 'believe', 'whispers', 'draw', 'attention', 'growling', 'growling', 'rain', 'pattering', 'man', 'thunder', 'crashes', 'cloudburst', 'time', 'pass', 'real', 'quick', 'growling', 'smell', 'washing', 'isn', 'washing', 'maybe', 'roars', 'shit', 'run', 'zombies', 'roaring', 'come', 'come', 'come', 'gunshots', 'rick', 'engine', 'starts', 'go', 'go', 'go', 'go', 'tires', 'screech', 'leaving', 'dixon', 'mean', 'going', 'going', 'come', 'back', 'god', 'god', 'place', 'need', 'draw', 'away', 'roll', 'doors', 'front', 'store', 'area', 'need', 'cleared', 'raise', 'friends', 'ready', 'drawing', 'geeks', 'away', 'how', 'missed', 'part', 'noise', 'car', 'alarm', 'blaring', 'engine', 'revving', 'tires', 'screech', 'roll', 'doors', 'front', 'store', 'facing', 'street', 'meet', 'ready', 'alarm', 'continues', 'morales', 'come', 'let', 'go', 'let', 'go', 'leave', 'fooling', 'man', 'morales', 'man', 'morales', 'andrea', 'come', 'gun', 'guys', 'leave', 'leave', 'guys', 'morales', 'come', 'coming', 'gotta', 'go', 'dixon', 'morales', 'leave', 'man', 'dog', 'man', 'leave', 'man', 'leave', 'man', 'human', 'come', 'groans', 'come', 'come', 'come', 'come', 'co', 'come', 'baby', 'come', 'key', 'clinking', 'clanging', 'zombies', 'banging', 'go', 'son', 'bitch', 'purpose', 'mean', 'lie', 'purpose', 'accident', 'leave', 'man', 'leave', 'leave', 'cuffs', 'rattling', 'sorry', 'man', 'sorry', 'yells', 'liar', 'god', 'damn', 'leave', 'sorry', 'man', 'damn', 'leave', 'man', 'leave', 'leave', 'doing', 'man', 'rot', 'hell', 'rot', 'hell', 'come', 'back', 'man', 'dog', 'wait', 'minute', 'come', 'leave', 'leave', 'got', 'car', 'alarm', 'blaring', 'car', 'engine', 'revving', 'tires', 'screech', 'come', 'come', 'zombies', 'growling', 'closer', 'closer', 'come', 'come', 'tires', 'screeching', 'glass', 'shatters', 'wait', 'let', 'go', 'bangs', 'dog', 'let', 'go', 'andrea', 'open', 'door', 'gotta', 'go', 'go', 'growling', 'engine', 'revving', 'tires', 'screech', 'yells', 'damn', 'leave', 'die', 'go', 'hell', 'damn', 'yells', 'rot', 'hell', 'yelling', 'dropped', 'damn', 'key', 'glenn', 'car', 'alarm', 'blaring', 'rock', 'music', 'playing', 'little', 'boy', 'age', 'five', 'had', 'something', 'pocket', 'keeps', 'folks', 'alive', 'whoo', 'hoo', 'hoo', 'hoo', 'hoo', 'man', 'turnin', 'baby', 'fun', 'man', 'spell', 'man', 'man'], ['people', 'yelling', 'radio', 'chatter', 'ma', 'ma', 'please', 'please', 'help', 'siren', 'wailing', 'gunshots', 'man', 'check', 'check', 'helicopter', 'passing', 'screams', 'growling', 'man', 'screaming', 'gunshots', 'panting', 'heart', 'monitor', 'beeping', 'bud', 'gunshots', 'grunts', 'helicopter', 'passing', 'door', 'opens', 'man', 'come', 'corporal', 'move', 'gunfire', 'pounds', 'grunts', 'helicopter', 'passes', 'listen', 'wake', 'need', 'please', 'man', 'show', 'sign', 'anything', 'please', 'rick', 'explosion', 'power', 'whirring', 'man', 'place', 'coming', 'fall', 'back', 'units', 'fall', 'back', 'guns', 'firing', 'grunts', 'crying', 'people', 'yelling', 'gunfire', 'woman', 'screams', 'growling', 'theme', 'music', 'playing', 'shane', 'daryl', 'cover', 'back', 'rick', 'hello', 'hello', 'shane', 'close', 'doors', 'watch', 'walkers', 'rick', 'hello', 'gun', 'cocks', 'anybody', 'infected', 'group', 'make', 'jenner', 'chance', 'asking', 'awful', 'days', 'submit', 'blood', 'test', 'price', 'admission', 'got', 'stuff', 'bring', 'once', 'door', 'closes', 'stays', 'closed', 'beeps', 'vi', 'seal', 'main', 'entrance', 'kill', 'power', 'rattles', 'clangs', 'beeps', 'rick', 'grimes', 'dr', 'edwin', 'jenner', 'elevator', 'humming', 'doctors', 'always', 'go', 'around', 'packing', 'heat', 'were', 'plenty', 'left', 'lying', 'around', 'familiarized', 'look', 'harmless', 'enough', 'except', 'keep', 'eye', 'chuckles', 'carol', 'underground', 'jenner', 'claustrophobic', 'little', 'try', 'think', 'vi', 'bring', 'lights', 'big', 'room', 'humming', 'beeping', 'welcome', 'zone', 'everybody', 'other', 'doctors', 'staff', 'person', 'were', 'speaking', 'vi', 'jenner', 'vi', 'say', 'hello', 'guests', 'welcome', 'computer', 'hello', 'guests', 'welcome', 'left', 'sorry', 'andrea', 'point', 'were', 'infected', 'running', 'fever', 'already', 'broken', 'every', 'rule', 'book', 'letting', 'let', 'least', 'thorough', 'syringe', 'clicks', 'jenner', 'done', 'ooh', 'jenner', 'hasn', 'eaten', 'days', 'laughing', 'fine', 'italy', 'children', 'little', 'wine', 'dinner', 'france', 'italy', 'france', 'hurt', 'come', 'come', 'dale', 'laughs', 'laughing', 'dale', 'young', 'lad', 'chuckles', 'adults', 'laughing', 'boy', 'boy', 'good', 'boy', 'yuck', 'tastes', 'nasty', 'laughing', 'continues', 'stick', 'soda', 'pop', 'bud', 'daryl', 'glenn', 'keep', 'drinking', 'little', 'man', 'see', 'how', 'red', 'face', 'men', 'laughing', 'clinks', 'glass', 'seems', 'haven', 'thanked', 'host', 'properly', 'more', 'host', 'hear', 'hear', 'doc', 'booyah', 'men', 'booyah', 'doctor', 'dog', 'booyah', 'glasses', 'clink', 'hell', 'happened', 'doc', 'other', 'doctors', 'were', 'supposed', 'figuring', 'happened', 'rick', 'celebrating', 'shane', 'need', 'wait', 'second', 'move', 'supposed', 'find', 'answers', 'instead', 'chuckles', 'found', 'found', 'man', 'jenner', 'things', 'got', 'bad', 'people', 'left', 'went', 'families', 'things', 'got', 'worse', 'military', 'cordon', 'got', 'overrun', 'rest', 'bolted', 'every', 'last', 'face', 'walking', 'door', 'opted', 'rash', 'suicides', 'bad', 'time', 'leave', 'kept', 'working', 'hoping', 'good', 'dude', 'buzzkill', 'man', 'most', 'facility', 'powered', 'including', 'housing', 'make', 'couches', 'comfortable', 'cots', 'storage', 'rec', 'room', 'hall', 'kids', 'might', 'enjoy', 'plug', 'video', 'games', 'anything', 'draws', 'power', 'same', 'applies', 'shower', 'go', 'easy', 'hot', 'water', 'hot', 'water', 'man', 'said', 'both', 'laugh', 'knob', 'squeaks', 'laughing', 'dale', 'andrea', 'vomiting', 'sobs', 'coughs', 'andrea', 'vomits', 'andrea', 'sobbing', 'go', 'god', 'flushes', 'sobbing', 'everything', 'gone', 'always', 'better', 'going', 'coming', 'mean', 'wine', 'dale', 'left', 'see', 'see', 'chance', 'make', 'new', 'start', 'laughs', 'god', 'dale', 'dale', 'see', 'look', 'jenner', 'face', 'hear', 'saying', 'left', 'knocks', 'how', 'blood', 'surprises', 'came', 'laughs', 'may', 'think', 'died', 'only', 'matter', 'time', 'too', 'things', 'boy', 'wife', 'never', 'never', 'told', 'really', 'thought', 'never', 'even', 'hinted', 'kept', 'kept', 'kept', 'moving', 'kept', 'kept', 'chuckling', 'good', 'books', 'carol', 'book', 'closes', 'enough', 'keep', 'busy', 'years', 'come', 'kids', 'bedtime', 'baby', 'go', 'say', 'prayers', 'browse', 'carol', 'come', 'first', 'night', 'might', 'actually', 'real', 'sleep', 'lori', 'miracle', 'isn', 'slams', 'door', 'sighs', 'jesus', 'scared', 'few', 'things', 'listen', 'time', 'chuckles', 'come', 'ever', 'time', 'how', 'treat', 'kidding', 'because', 'told', 'husband', 'dead', 'jesus', 'lori', 'lie', 'stop', 'things', 'were', 'falling', 'apart', 'were', 'slaughtering', 'people', 'hallways', 'massacre', 'were', 'walkers', 'everywhere', 'left', 'everybody', 'else', 'ran', 'were', 'doctors', 'hooked', 'machines', 'even', 'took', 'ear', 'put', 'chest', 'listened', 'heartbeat', 'hear', 'maybe', 'gunfire', 'way', 'could', 'survived', 'way', 'had', 'think', 'had', 'needed', 'think', 'had', 'guys', 'safe', 'atlanta', 'had', 'stop', 'thought', 'second', 'alive', 'would', 'come', 'saved', 'life', 'little', 'boy', 'could', 'traded', 'places', 'would', 'would', 'trade', 'places', 'because', 'love', 'drunk', 'love', 'drunk', 'were', 'things', 'say', 'love', 'too', 'because', 'way', 'could', 'been', 'way', 'were', 'shane', 'shane', 'shane', 'stop', 'listen', 'love', 'hands', 'love', 'please', 'stop', 'lori', 'groans', 'pounds', 'wall', 'sobbing', 'belt', 'buckle', 'rattles', 'shoes', 'clatter', 'switch', 'clicks', 'crying', 'whispering', 'afraid', 'anymore', 'safe', 'sniffling', 'glenn', 'hello', 'rick', 'morning', 'hungover', 'mom', 'said', 'mom', 'mom', 'has', 'annoying', 'habit', 'eggs', 'powdered', 'good', 'glenn', 'moans', 'dog', 'bet', 'protein', 'helps', 'hangover', 'moaning', 'come', 'jenner', 'rick', 'could', 'help', 'please', 'thought', 'could', 'use', 'rick', 'least', 'ever', 'ever', 'ever', 'let', 'drink', 'again', 'shane', 'rick', 'feel', 'bad', 'worse', 'hell', 'happened', 'neck', 'must', 'done', 'sleep', 'never', 'seen', 'before', 'jenner', 'morning', 'shane', 'doc', 'doctor', 'mean', 'slam', 'questions', 'first', 'thing', 'anyway', 'come', 'eggs', 'clicks', 'beeps', 'give', 'playback', 'ts', 'vi', 'playback', 'ts', 'beeping', 'jenner', 'few', 'people', 'ever', 'got', 'chance', 'see', 'very', 'few', 'brain', 'extraordinary', 'matters', 'end', 'take', 'eiv', 'vi', 'enhanced', 'internal', 'view', 'lights', 'jenner', 'person', 'life', 'experiences', 'memories', 'everything', 'somewhere', 'organic', 'wiring', 'ripples', 'light', 'thing', 'makes', 'unique', 'human', 'make', 'sense', 'ever', 'synapses', 'electric', 'impulses', 'brain', 'carry', 'messages', 'determine', 'everything', 'person', 'says', 'does', 'thinks', 'moment', 'birth', 'moment', 'death', 'death', 'vigil', 'rather', 'playback', 'vigil', 'person', 'died', 'jenner', 'test', 'subject', 'someone', 'bitten', 'infected', 'volunteered', 'record', 'process', 'vi', 'scan', 'forward', 'first', 'event', 'vi', 'scanning', 'first', 'event', 'beeping', 'invades', 'brain', 'meningitis', 'adrenal', 'glands', 'hemorrhage', 'brain', 'goes', 'shutdown', 'major', 'organs', 'death', 'everything', 'ever', 'were', 'ever', 'gone', 'happened', 'jim', 'lori', 'lost', 'somebody', 'two', 'days', 'ago', 'sister', 'lost', 'somebody', 'too', 'how', 'devastating', 'scan', 'second', 'event', 'vi', 'scanning', 'second', 'event', 'jenner', 'resurrection', 'times', 'vary', 'wildly', 'had', 'reports', 'happening', 'little', 'three', 'minutes', 'longest', 'heard', 'eight', 'hours', 'case', 'patient', 'two', 'hours', 'minute', 'seven', 'seconds', 'restarts', 'brain', 'brain', 'stem', 'basically', 'gets', 'moving', 'alive', 'before', 'most', 'brain', 'dark', 'jenner', 'dark', 'lifeless', 'dead', 'frontal', 'lobe', 'neocortex', 'human', 'part', 'doesn', 'come', 'back', 'part', 'shell', 'driven', 'mindless', 'instinct', 'god', 'shot', 'patient', 'head', 'jenner', 'vi', 'power', 'main', 'screen', 'workstations', 'vi', 'powering', 'main', 'screen', 'workstations', 'idea', 'could', 'microbial', 'viral', 'parasitic', 'fungal', 'wrath', 'god', 'andrea', 'somebody', 'must', 'something', 'somebody', 'somewhere', 'carol', 'others', 'other', 'facilities', 'may', 'people', 'how', 'jenner', 'everything', 'went', 'communications', 'directives', 'been', 'dark', 'almost', 'month', 'left', 'anywhere', 'really', 'saying', 'jesus', 'man', 'shit', 'faced', 'drunk', 'again', 'dr', 'jenner', 'has', 'been', 'taxing', 'hate', 'ask', 'more', 'question', 'clock', 'counting', 'happens', 'zero', 'basement', 'generators', 'run', 'fuel', 'vi', 'happens', 'power', 'runs', 'vi', 'power', 'runs', 'facility', 'wide', 'decontamination', 'occur', 'beeps', 'glenn', 'decontamination', 'does', 'mean', 'shane', 'way', 'jenner', 'clammed', 'way', 'wandered', 'wrong', 'seriously', 'man', 'nuts', 'medicated', 'beeps', 'lights', 'humming', 'check', 'way', 'shane', 'chugging', 'empty', 'sighs', 'generator', 'clacks', 'vi', 'emergency', 'lighting', 'hell', 'guys', 'kill', 'lights', 'nah', 'went', 'rick', 'anything', 'dog', 'dead', 'generators', 'more', 'empty', 'fuel', 'drums', 'count', 'mom', 'something', 'wrong', 'air', 'conditioning', 'stopped', 'sighs', 'sniffles', 'best', 'could', 'time', 'had', 'hope', 'proud', 'always', 'think', 'more', 'time', 'power', 'whirs', 'runs', 'carol', 'air', 'lights', 'room', 'daryl', 'going', 'everything', 'turned', 'energy', 'use', 'being', 'prioritized', 'dale', 'air', 'isn', 'priority', 'lights', 'zone', 'shutting', 'daryl', 'hell', 'does', 'mean', 'power', 'whirs', 'man', 'talking', 'mean', 'shutting', 'how', 'building', 'anything', 'jenner', 'surprised', 'rick', 'jenner', 'happening', 'system', 'dropping', 'nonessential', 'uses', 'power', 'designed', 'keep', 'computers', 'running', 'last', 'possible', 'second', 'started', 'approached', 'half', 'hour', 'mark', 'schedule', 'french', 'were', 'last', 'ones', 'hold', 'far', 'while', 'people', 'were', 'bolting', 'doors', 'committing', 'suicide', 'hallways', 'stayed', 'labs', 'end', 'thought', 'were', 'close', 'solution', 'happened', 'jenner', 'same', 'thing', 'happening', 'power', 'grid', 'ran', 'juice', 'world', 'runs', 'fossil', 'fuel', 'mean', 'how', 'stupid', 'shane', 'let', 'rick', 'hell', 'care', 'lori', 'grab', 'things', 'everybody', 'stuff', 'getting', 'alarm', 'blaring', 'vi', 'minutes', 'decontamination', 'daryl', 'doc', 'going', 'damn', 'shane', 'everybody', 'heard', 'rick', 'stuff', 'let', 'go', 'go', 'go', 'let', 'go', 'glenn', 'come', 'whirs', 'clangs', 'lock', 'locked', 'hit', 'minute', 'window', 'recording', 'mom', 'son', 'bitch', 'shane', 'locked', 'stop', 'locked', 'shane', 'wait', 'jenner', 'open', 'door', 'point', 'everything', 'topside', 'locked', 'emergency', 'exits', 'sealed', 'dale', 'open', 'damn', 'things', 'something', 'control', 'computers', 'told', 'once', 'front', 'door', 'closed', 'wouldn', 'open', 'again', 'heard', 'say', 'better', 'way', 'happens', 'minutes', 'keyboard', 'clacks', 'happens', 'minutes', 'daryl', 'come', 'place', 'protected', 'public', 'very', 'nasty', 'stuff', 'weaponized', 'smallpox', 'ebola', 'strains', 'could', 'wipe', 'half', 'country', 'stuff', 'getting', 'ever', 'event', 'catastrophic', 'power', 'failure', 'terrorist', 'attack', 'example', 'hits', 'deployed', 'prevent', 'organisms', 'getting', 'hits', 'vi', 'define', 'vi', 'hits', 'high', 'impulse', 'thermobaric', 'fuel', 'air', 'explosives', 'consist', 'two', 'stage', 'aerosol', 'ignition', 'produces', 'blast', 'wave', 'significantly', 'greater', 'power', 'duration', 'other', 'known', 'explosive', 'except', 'nuclear', 'vacuum', 'pressure', 'effect', 'ignites', 'oxygen', 'useful', 'greatest', 'loss', 'life', 'damage', 'structures', 'desired', 'sets', 'air', 'fire', 'pain', 'both', 'crying', 'jenner', 'end', 'sorrow', 'grief', 'regret', 'everything', 'open', 'damn', 'door', 'way', 'grunts', 'dog', 'daryl', 'both', 'pounding', 'grunting', 'crying', 'should', 'left', 'enough', 'alone', 'would', 'been', 'easier', 'lori', 'easier', 'short', 'brutal', 'life', 'agonizing', 'death', 'sister', 'name', 'amy', 'jenner', 'amy', 'does', 'seen', 'really', 'wife', 'son', 'emphatically', 'axe', 'bangs', 'make', 'dent', 'doors', 'designed', 'withstand', 'rocket', 'launcher', 'head', 'rick', 'daryl', 'daryl', 'back', 'back', 'jenner', 'last', 'night', 'said', 'knew', 'matter', 'time', 'before', 'everybody', 'loved', 'dead', 'really', 'said', 'after', 'big', 'talk', 'had', 'keep', 'hope', 'alive', 'jenner', 'hope', 'never', 'always', 'hope', 'maybe', 'won', 'maybe', 'somebody', 'somewhere', 'part', 'everything', 'gone', 'understand', 'jenner', 'listen', 'friend', 'gets', 'takes', 'extinction', 'event', 'crying', 'continues', 'carol', 'isn', 'keep', 'tiny', 'moment', 'millisecond', 'pain', 'daughter', 'doesn', 'deserve', 'die', 'wouldn', 'kinder', 'more', 'compassionate', 'hold', 'loved', 'ones', 'wait', 'clock', 'run', 'gun', 'cocks', 'shane', 'way', 'rick', 'stay', 'way', 'open', 'door', 'blow', 'head', 'hear', 'brother', 'brother', 'way', 'never', 'shane', 'listen', 'shane', 'too', 'late', 'dies', 'yelling', 'die', 'shane', 'shane', 'grunts', 'panting', 'done', 'done', 'guess', 'think', 'lying', 'rick', 'lying', 'hope', 'were', 'true', 'bolted', 'rest', 'taken', 'easy', 'way', 'chose', 'hard', 'path', 'doesn', 'matter', 'does', 'matter', 'always', 'matters', 'stayed', 'others', 'ran', 'because', 'wanted', 'made', 'promise', 'wife', 'test', 'subject', 'wife', 'jenner', 'begged', 'keep', 'going', 'long', 'could', 'how', 'could', 'say', 'pounding', 'dying', 'should', 'been', 'table', 'wouldn', 'mattered', 'anybody', 'loss', 'world', 'hell', 'ran', 'place', 'worked', 'field', 'einstein', 'edwin', 'jenner', 'could', 'done', 'something', 'wife', 'choice', 'choice', 'chance', 'daryl', 'grunting', 'let', 'keep', 'trying', 'long', 'told', 'topside', 'locked', 'open', 'beeping', 'come', 'let', 'go', 'come', 'let', 'go', 'daryl', 'come', 'dog', 'move', 'move', 'daryl', 'come', 'let', 'go', 'carol', 'chance', 'take', 'grateful', 'day', 'come', 'won', 'glenn', 'let', 'go', 'whispering', 'got', 'four', 'minutes', 'left', 'come', 'let', 'go', 'let', 'go', 'jacqui', 'staying', 'staying', 'sweetie', 'insane', 'completely', 'sane', 'first', 'time', 'long', 'time', 'ending', 'jim', 'amy', 'time', 'argue', 'point', 'dog', 'come', 'man', 'come', 'let', 'go', 'let', 'go', 'staying', 'too', 'andrea', 'go', 'go', 'shane', 'come', 'andrea', 'isn', 'amy', 'would', 'dead', 'need', 'leave', 'glenn', 'doors', 'open', 'dog', 'come', 'glenn', 'doesn', 'work', 'wait', 'minute', 'wait', 'minute', 'try', 'try', 'try', 'shane', 'daryl', 'daryl', 'come', 'come', 'stay', 'close', 'sweetheart', 'grunting', 'time', 'almost', 'daryl', 'look', 'yelling', 'dog', 'jesus', 'sophia', 'glass', 'won', 'break', 'rick', 'something', 'might', 'help', 'carol', 'think', 'nail', 'file', 'first', 'morning', 'camp', 'washed', 'uniform', 'found', 'pocket', 'come', 'glenn', 'look', 'sh', 'shit', 'glass', 'shatters', 'win', 'doing', 'said', 'pull', 'dale', 'pulling', 'anything', 'staying', 'stay', 'too', 'waiting', 'face', 'alone', 'dale', 'hell', 'too', 'bad', 'see', 'come', 'somebody', 'life', 'make', 'care', 'check', 'staying', 'matter', 'settled', 'zombies', 'growling', 'grunts', 'panting', 'wait', 'wait', 'wait', 'wait', 'wait', 'coming', 'computer', 'beeping', 'got', 'lori', 'come', 'horn', 'honks', 'dale', 'back', 'everybody', 'exhales', 'come', 'come', 'folk', 'music', 'playing', 'come', 'come', 'today', 'crooked', 'highway', 'tonight', 'crooked', 'trail', 'tomorrow', 'wasn', 'long', 'time', 'lonesome', 'would', 'mean', 'engine', 'starts', 'only', 'own', 'true', 'love', 'waiting', 'could', 'hear', 'heart', 'softly', 'pounding', 'only', 'lying', 'lie', 'bed', 'once', 'again', 'see', 'reflection', 'water', 'speak', 'sounds', 'show', 'pain', 'hear', 'echo', 'footsteps', 'remember', 'sounds', 'own', 'name', 'only', 'own', 'true', 'love', 'waiting', 'could', 'hear', 'heart', 'softly', 'pounding', 'only', 'lying', 'lie', 'bed', 'once', 'again'], ['birds', 'chirping', 'always', 'something', 'dad', 'teach', 'tie', 'nail', 'knots', 'would', 'only', 'ever', 'used', 'fisherman', 'knot', 'knot', 'tied', 'least', 'three', 'clinch', 'knots', 'way', 'fine', 'making', 'reel', 'clicking', 'dad', 'teach', 'mostly', 'dry', 'lures', 'wet', 'kidding', 'always', 'adamant', 'mean', 'dad', 'fishing', 'thing', 'gee', 'think', 'only', 'spent', 'entire', 'childhood', 'ass', 'boat', 'day', 'getting', 'hook', 'seated', 'were', 'fishing', 'dinner', 'table', 'always', 'threw', 'back', 'always', 'guess', 'changed', 'things', 'changing', 'religion', 'something', 'people', 'change', 'fault', 'were', 'born', 'years', 'apart', 'because', 'minute', 'went', 'college', 'ass', 'boat', 'taught', 'dry', 'lures', 'day', 'behavior', 'developed', 'time', 'reel', 'clicks', 'think', 'crying', 'because', 'knew', 'were', 'different', 'chuckles', 'knew', 'needed', 'catch', 'fish', 'needed', 'throw', 'back', 'inhales', 'remember', 'rule', 'crying', 'boat', 'scares', 'fish', 'mom', 'dad', 'mean', 'maybe', 'florida', 'wasn', 'hit', 'bad', 'maybe', 'better', 'think', 'reel', 'clicks', 'whirrs', 'think', 'bite', 'even', 'wrong', 'knots', 'reel', 'clicking', 'sniffles', 'god', 'sighs', 'crying', 'rule', 'think', 'more', 'dad', 'fish', 'shovel', 'scraping', 'theme', 'music', 'playing', 'shouts', 'won', 'hesitate', 'care', 'every', 'walker', 'city', 'hears', 'got', 'rag', 'something', 'sighs', 'guess', 'saw', 'blade', 'too', 'dull', 'handcuffs', 'bitch', 'must', 'used', 'tourniquet', 'maybe', 'belt', 'more', 'blood', 'merle', 'jim', 'keep', 'keel', 'drink', 'water', 'least', 'growling', 'thuds', 'daryl', 'had', 'enough', 'take', 'two', 'sumbitches', 'handed', 'toughest', 'asshole', 'ever', 'met', 'brother', 'grunts', 'feed', 'hammer', 'crap', 'nails', 'man', 'pass', 'blood', 'loss', 'matter', 'how', 'tough', 'morales', 'baby', 'look', 'check', 'laughs', 'ladies', 'clapping', 'because', 'children', 'eat', 'tonight', 'dale', 'canoe', 'gear', 'mom', 'look', 'look', 'fish', 'chuckles', 'two', 'learn', 'dad', 'teach', 'how', 'sure', 'teach', 'nail', 'knots', 'stuff', 'won', 'catch', 'arguing', 'dale', 'last', 'time', 'oiled', 'line', 'reels', 'disgrace', 'alarm', 'anyone', 'may', 'problem', 'merle', 'alone', 'remember', 'screw', 'could', 'bleeding', 'said', 'glenn', 'burned', 'stuff', 'skin', 'cauterized', 'stump', 'told', 'tough', 'kill', 'merle', 'merle', 'take', 'faith', 'lost', 'blood', 'stop', 'busting', 'death', 'trap', 'left', 'building', 'hell', 'would', 'daryl', 'wouldn', 'alone', 'far', 'knows', 'doing', 'got', 'surviving', 'dog', 'call', 'surviving', 'wandering', 'streets', 'maybe', 'passing', 'odds', 'worse', 'being', 'handcuffed', 'left', 'rot', 'sorry', 'pricks', 'kill', 'worried', 'dumb', 'dead', 'bastard', 'dumb', 'dead', 'bastards', 'different', 'story', 'take', 'tally', 'go', 'daryl', 'wait', 'hands', 'stop', 'blame', 'family', 'went', 'hell', 'find', 'exactly', 'how', 'feel', 'far', 'injury', 'could', 'help', 'check', 'few', 'blocks', 'around', 'only', 'keep', 'level', 'head', 'could', 'only', 'guns', 'first', 'strolling', 'streets', 'atlanta', 'good', 'intentions', 'jim', 'jim', 'hold', 'give', 'second', 'please', 'little', 'concerned', 'man', 'dale', 'says', 'been', 'hours', 'digging', 'heading', 'china', 'jim', 'does', 'matter', 'hurting', 'anyone', 'except', 'maybe', 'today', 'keep', 'sure', 'watch', 'jim', 'say', 'scaring', 'people', 'scaring', 'son', 'carol', 'daughter', 'got', 'scared', 'mean', 'hell', 'people', 'go', 'leave', 'hell', 'alone', 'think', 'need', 'take', 'break', 'go', 'shade', 'food', 'maybe', 'maybe', 'little', 'come', 'help', 'jim', 'go', 'ahead', 'give', 'shovel', 'asking', 'coming', 'asking', 'please', 'take', 'beat', 'face', 'peletier', 'aren', 'seen', 'face', 'left', 'see', 'happens', 'someone', 'crosses', 'different', 'jim', 'weren', 'control', 'hurting', 'wife', 'marriage', 'judge', 'jury', 'voted', 'king', 'boss', 'shane', 'jim', 'argue', 'give', 'shovel', 'give', 'jim', 'grunts', 'got', 'stop', 'got', 'jim', 'stop', 'jim', 'jim', 'hurt', 'hear', 'jim', 'hurt', 'lie', 'biggest', 'lie', 'told', 'wife', 'two', 'boys', 'said', 'times', 'matter', 'came', 'nowhere', 'were', 'dozens', 'pulled', 'hands', 'only', 'reason', 'got', 'away', 'cause', 'dead', 'were', 'too', 'busy', 'eating', 'family', 'doing', 'alone', 'daryl', 'even', 'think', 'bad', 'idea', 'even', 'good', 'idea', 'hear', 'go', 'group', 'slow', 'drawing', 'attention', 'alone', 'move', 'fast', 'look', 'tank', 'five', 'blocks', 'bag', 'guns', 'alley', 'dragged', 'first', 'met', 'daryl', 'go', 'crossbow', 'quieter', 'gun', 'while', 'daryl', 'waits', 'alley', 'run', 'street', 'grab', 'bag', 'got', 'elsewhere', 'glenn', 'dog', 'alley', 'two', 'blocks', 'away', 'may', 'able', 'come', 'back', 'same', 'way', 'walkers', 'might', 'cut', 'happens', 'won', 'go', 'back', 'daryl', 'go', 'forward', 'instead', 'way', 'around', 'alley', 'guys', 'whichever', 'direction', 'go', 'got', 'both', 'places', 'cover', 'afterwards', 'meet', 'back', 'kid', 'before', 'delivered', 'pizzas', 'got', 'balls', 'chinaman', 'korean', 'whatever', 'growls', 'shoot', 'looking', 'brother', 'hurt', 'real', 'bad', 'seen', 'ayãºdame', 'shut', 'bring', 'geeks', 'answer', 'growling', 'answer', 'ayãºdame', 'ayãºdame', 'ayãºdame', 'daryl', 'shut', 'shut', 'muffled', 'screaming', 'shut', 'shut', 'bag', 'vato', 'take', 'take', 'screams', 'car', 'approaches', 'daryl', 'daryl', 'daryl', 'tires', 'squealing', 'come', 'back', 'sumbitches', 'shouts', 'stop', 'kick', 'nuts', 'throat', 'let', 'go', 'chill', 'took', 'glenn', 'little', 'bastard', 'little', 'bastard', 'homie', 'friends', 'stomp', 'ass', 'guys', 'guys', 'cut', 'lab', 'go', 'come', 'damn', 'let', 'go', 'jim', 'take', 'water', 'go', 'bud', 'pour', 'head', 'cooling', 'how', 'long', 'keep', 'until', 'think', 'danger', 'others', 'sorry', 'scared', 'boy', 'little', 'girl', 'had', 'sunstroke', 'blaming', 'scared', 'mama', 'sun', 'cooked', 'head', 'jim', 'were', 'digging', 'say', 'had', 'reason', 'remember', 'something', 'dreamt', 'last', 'night', 'dad', 'were', 'too', 'were', 'worried', 'remember', 'rest', 'worried', 'dad', 'back', 'yet', 'need', 'talk', 'dad', 'police', 'officer', 'son', 'helps', 'people', 'probably', 'came', 'folks', 'needing', 'help', 'man', 'tough', 'nails', 'could', 'see', 'stop', 'getting', 'back', 'mom', 'promise', 'wants', 'help', 'clean', 'fish', 'sweet', 'come', 'sophia', 'lori', 'stay', 'carol', 'keep', 'boy', 'close', 'ever', 'let', 'sight', 'men', 'were', 'need', 'went', 'telling', 'jesus', 'man', 'hell', 'happened', 'back', 'told', 'little', 'turd', 'douche', 'bag', 'friends', 'came', 'nowhere', 'jumped', 'jumped', 'puto', 'screaming', 'trying', 'find', 'brother', 'damn', 'fault', 'took', 'glenn', 'could', 'taken', 'merle', 'too', 'merle', 'kind', 'hick', 'name', 'wouldn', 'name', 'dog', 'merle', 'damn', 'daryl', 'back', 'see', 'happened', 'last', 'guy', 'pissed', 'screams', 'start', 'feet', 'time', 'men', 'were', 'took', 'friend', 'talk', 'see', 'work', 'something', 'rattles', 'sure', 'wrong', 'move', 'arrow', 'ass', 'take', 'arrow', 'ass', 'shove', 'guillermo', 'man', 'cocks', 'gun', 'let', 'go', 'see', 'guillermo', 'lock', 'clacks', 'doors', 'creaking', 'little', 'man', 'cut', 'feet', 'carnal', 'cops', 'redneck', 'puto', 'cut', 'dude', 'hand', 'man', 'showed', 'shut', 'vato', 'shot', 'ass', 'arrow', 'homes', 'chill', 'ese', 'chill', 'chill', 'true', 'wants', 'miguelito', 'feet', 'pretty', 'sick', 'man', 'were', 'hoping', 'more', 'calm', 'discussion', 'hillbilly', 'jumps', 'felipe', 'little', 'cousin', 'beats', 'threatens', 'cut', 'feet', 'felipe', 'gets', 'arrow', 'ass', 'calm', 'discussion', 'fascinate', 'heat', 'moment', 'mistakes', 'were', 'made', 'both', 'sides', 'dude', 'anyway', 'look', 'related', 'group', 'more', 'less', 'sure', 'few', 'daryl', 'got', 'brother', 'guillermo', 'sorry', 'fresh', 'white', 'boys', 'got', 'asian', 'interested', 'sounds', 'even', 'trade', 'sound', 'even', 'come', 'man', 'guillermo', 'people', 'got', 'attacked', 'compensation', 'pain', 'suffering', 'more', 'point', 'bag', 'guns', 'guns', 'bag', 'miguel', 'saw', 'street', 'bag', 'felipe', 'jorge', 'were', 'going', 'back', 'bag', 'guns', 'mistaken', 'think', 'rick', 'being', 'bag', 'guns', 'bag', 'street', 'anybody', 'could', 'come', 'around', 'say', 'supposed', 'take', 'word', 'stop', 'people', 'unloading', 'take', 'could', 'come', 'man', 'make', 'trade', 'please', 'oye', 'whimpers', 'guillermo', 'see', 'two', 'options', 'come', 'back', 'miguel', 'bag', 'guns', 'everybody', 'walks', 'come', 'back', 'locked', 'loaded', 'see', 'side', 'spills', 'more', 'blood', 'clacking', 'guns', 'worth', 'more', 'gold', 'gold', 'won', 'protect', 'family', 'put', 'food', 'table', 'willing', 'give', 'kid', 'dog', 'knew', 'glenn', 'back', 'might', 'agree', 'think', 'vato', 'way', 'hand', 'calling', 'liar', 'part', 'hold', 'onto', 'teeth', 'question', 'trust', 'man', 'word', 'daryl', 'question', 'willing', 'bet', 'could', 'more', 'guns', 'could', 'life', 'glenn', 'worth', 'life', 'owe', 'glenn', 'idiot', 'stuck', 'tank', 'could', 'walked', 'away', 'hand', 'guns', 'say', 'keeping', 'two', 'should', 'head', 'back', 'camp', 'family', 'come', 'nuts', 'says', 'door', 'clacking', 'see', 'guns', 'bag', 'because', 'thought', 'mentioned', 'let', 'shoot', 'fools', 'ese', 'unload', 'asses', 'ese', 'think', 'fully', 'appreciate', 'gravity', 'situation', 'pretty', 'clear', 'man', 'chop', 'boy', 'feed', 'dogs', 'evilest', 'nastiest', 'man', 'eating', 'bitches', 'ever', 'saw', 'picked', 'satan', 'yard', 'sale', 'told', 'how', 'has', 'woefully', 'deaf', 'hearing', 'fine', 'said', 'come', 'locked', 'loaded', 'woman', 'felipe', 'felipe', 'abuela', 'go', 'back', 'others', 'old', 'lady', 'line', 'fire', 'abuela', 'listen', 'place', 'gilbert', 'having', 'trouble', 'breathing', 'needs', 'asthma', 'stuff', 'carlito', 'find', 'needs', 'medicine', 'felipe', 'go', 'take', 'care', 'take', 'grandmother', 'felipe', 'speaks', 'spanish', 'men', 'felipe', 'speaks', 'spanish', 'take', 'ma', 'felipe', 'good', 'boy', 'trouble', 'pull', 'together', 'need', 'ma', 'arrest', 'grandson', 'helping', 'find', 'missing', 'person', 'fella', 'named', 'glenn', 'asian', 'boy', 'gilbert', 'come', 'come', 'show', 'needs', 'medicine', 'let', 'pass', 'man', 'coughing', 'people', 'whispering', 'abuela', 'por', 'favor', 'take', 'people', 'coughing', 'nice', 'easy', 'breathe', 'breathe', 'let', 'breathe', 'inhaler', 'hisses', 'woman', 'relax', 'hell', 'asthma', 'attack', 'breath', 'sudden', 'thought', 'were', 'being', 'eaten', 'dogs', 'man', 'barks', 'could', 'word', 'dumbest', 'son', 'bitch', 'ever', 'met', 'walked', 'ready', 'kill', 'every', 'last', 'glad', 'go', 'way', 'had', 'blood', 'would', 'hands', 'too', 'fought', 'back', 'wouldn', 'first', 'time', 'had', 'protect', 'food', 'medicine', 'left', 'people', 'old', 'ones', 'staff', 'took', 'left', 'die', 'felipe', 'were', 'only', 'ones', 'stayed', 'doctors', 'felipe', 'nurse', 'special', 'care', 'provider', 'custodian', 'rest', 'crew', 'vatos', 'trickle', 'check', 'parents', 'grandparents', 'see', 'how', 'things', 'most', 'decide', 'stay', 'good', 'thing', 'too', 'need', 'muscle', 'people', 'encountered', 'things', 'fell', 'apart', 'worst', 'kind', 'plunderers', 'kind', 'take', 'force', 'guillermo', 'how', 'people', 'got', 'attacked', 'show', 'miguel', 'hostage', 'appearances', 'guess', 'world', 'changed', 'guillermo', 'same', 'ever', 'weak', 'taken', 'vatos', 'work', 'cars', 'talk', 'getting', 'old', 'people', 'city', 'most', 'even', 'bathroom', 'dream', 'keeps', 'crew', 'busy', 'worth', 'something', 'barred', 'windows', 'welded', 'doors', 'shut', 'except', 'entrance', 'vatos', 'go', 'scavenge', 'keep', 'going', 'watch', 'perimeter', 'night', 'day', 'wait', 'people', 'look', 'even', 'because', 'glenn', 'admit', 'only', 'came', 'back', 'atlanta', 'hat', 'rick', 'anybody', 'daryl', 'given', 'away', 'half', 'guns', 'ammo', 'rick', 'nearly', 'half', 'daryl', 'bunch', 'old', 'farts', 'die', 'momentarily', 'anyhow', 'seriously', 'how', 'long', 'think', 'got', 'how', 'long', 'glenn', 'god', 'hell', 'van', 'left', 'would', 'take', 'merle', 'taking', 'vengeance', 'back', 'camp', 'wrapping', 'paper', 'color', 'tissue', 'anything', 'dale', 'seriously', 'how', 'had', 'been', 'informed', 'impending', 'apocalypse', 'stocked', 'amy', 'birthday', 'tomorrow', 'been', 'marking', 'days', 'calendar', 'make', 'sure', 'give', 'gift', 'unwrapped', 'deep', 'breath', 'sure', 'find', 'something', 'built', 'rocks', 'around', 'see', 'flames', 'little', 'higher', 'hidden', 'jim', 'how', 'feeling', 'man', 'better', 'more', 'hope', 'understand', 'need', 'timeout', 'got', 'others', 'got', 'think', 'make', 'sure', 'hard', 'feelings', 'understand', 'chuckles', 'come', 'join', 'rest', 'big', 'ol', 'fish', 'fry', 'very', 'shane', 'plastic', 'rustles', 'come', 'everybody', 'hell', 'people', 'wouldn', 'piss', 'heads', 'fire', 'stay', 'keep', 'daddy', 'company', 'wants', 'join', 'come', 'fine', 'hell', 'both', 'need', 'bothering', 'more', 'rest', 'night', 'panting', 'people', 'laugh', 'sophia', 'pass', 'fish', 'please', 'carol', 'go', 'shane', 'man', 'man', 'good', 'whew', 'chuckles', 'miss', 'got', 'ask', 'man', 'been', 'driving', 'crazy', 'dale', 'watch', 'wrong', 'watch', 'see', 'every', 'day', 'same', 'time', 'winding', 'thing', 'village', 'priest', 'saying', 'mass', 'wondered', 'missing', 'point', 'jacqui', 'unless', 'misread', 'signs', 'world', 'seems', 'come', 'end', 'least', 'hit', 'speed', 'bump', 'good', 'long', 'while', 'every', 'day', 'winding', 'stupid', 'watch', 'time', 'important', 'keep', 'track', 'isn', 'days', 'least', 'think', 'andrea', 'back', 'chuckles', 'father', 'said', 'son', 'gave', 'watch', 'had', 'been', 'handed', 'generations', 'said', 'give', 'mausoleum', 'hope', 'desire', 'fit', 'individual', 'needs', 'better', 'father', 'before', 'give', 'may', 'remember', 'time', 'may', 'forget', 'moment', 'spend', 'breath', 'trying', 'conquer', 'weird', 'laugh', 'faulkner', 'william', 'faulkner', 'maybe', 'bad', 'paraphrasing', 'going', 'pee', 'jeez', 'try', 'discreet', 'around', 'laughs', 'rustling', 'thought', 'told', 'leave', 'hell', 'alone', 'say', 'growling', 'toilet', 'paper', 'growling', 'gasps', 'screaming', 'people', 'screaming', 'mom', 'lori', 'lori', 'guns', 'firing', 'god', 'dog', 'go', 'go', 'woman', 'children', 'screaming', 'lori', 'shane', 'shane', 'follow', 'screaming', 'god', 'god', 'groans', 'help', 'god', 'crying', 'come', 'come', 'stay', 'close', 'carol', 'shane', 'stay', 'close', 'screaming', 'come', 'work', 'way', 'lori', 'front', 'shane', 'morales', 'rv', 'go', 'lori', 'shane', 'shane', 'shane', 'stay', 'stay', 'morales', 'work', 'lori', 'come', 'shane', 'let', 'go', 'girl', 'screaming', 'lori', 'stay', 'shane', 'come', 'make', 'way', 'winnebago', 'gunshots', 'shouting', 'baby', 'baby', 'dad', 'crying', 'panting', 'sobbing', 'amy', 'gags', 'amy', 'amy', 'crying', 'amy', 'wailing', 'amy', 'amy', 'remember', 'dream', 'dug', 'holes', 'music', 'playing']]\n"
     ]
    }
   ],
   "source": [
    "print(a_2)"
   ]
  },
  {
   "cell_type": "code",
   "execution_count": 10,
   "id": "5db63064",
   "metadata": {},
   "outputs": [
    {
     "name": "stdout",
     "output_type": "stream",
     "text": [
      "                                                subs level\n",
      "0  [thunder, rumbling, merle, heard, bitch, got, ...    A2\n",
      "1  [bugs, chittering, brakes, squeak, engine, sto...    A2\n",
      "2  [walkie, talkie, squawks, rick, morgan, hear, ...    A2\n",
      "3  [birds, chirping, bugs, chittering, boy, mom, ...    A2\n",
      "4  [people, yelling, radio, chatter, ma, ma, plea...    A2\n",
      "5  [birds, chirping, always, something, dad, teac...    A2\n"
     ]
    }
   ],
   "source": [
    "# создаем датафрейм с субтитрами уровня А2\n",
    "data_a_2 = {'subs': a_2}\n",
    "df_a_2 = pd.DataFrame(data_a_2)\n",
    "df_a_2['level'] = 'A2'\n",
    "print(df_a_2)"
   ]
  },
  {
   "cell_type": "code",
   "execution_count": 11,
   "id": "2ed5f83d",
   "metadata": {},
   "outputs": [],
   "source": [
    "# загрузим в список имена файлов из папки с субтитрами B1\n",
    "films_name = os.listdir(path='/Users/urvanov_aleksandr/Documents/Yandex/17DS+/Мастерская/english_level/English_scores/Subtitles_all/B1')\n",
    "films_filtr = set(films_name) & set(df['Movie'] + '.srt')\n",
    "\n"
   ]
  },
  {
   "cell_type": "code",
   "execution_count": 12,
   "id": "e47dd2c8",
   "metadata": {},
   "outputs": [],
   "source": [
    "b_1 = []\n",
    "\n",
    "#загружаем и отфильтровываем субтитры \n",
    "for film in films_filtr:\n",
    "    try: \n",
    "        subs = pysrt.open(f'/Users/urvanov_aleksandr/Documents/Yandex/17DS+/Мастерская/english_level/English_scores/Subtitles_all/B1/{film},')\n",
    "    except:\n",
    "        subs = pysrt.open(f'/Users/urvanov_aleksandr/Documents/Yandex/17DS+/Мастерская/english_level/English_scores/Subtitles_all/B1/{film}', encoding='latin-1')\n",
    "    # вызов функии для очистки текста\n",
    "    subs = re.findall('[a-zA-Z]+\\w+', subs.text)\n",
    "    for i in range(len(subs)):\n",
    "        subs[i] = subs[i].lower()\n",
    "    cln_subs = clean_subs(subs)\n",
    "    b_1.append(cln_subs)\n",
    "    "
   ]
  },
  {
   "cell_type": "code",
   "execution_count": 13,
   "id": "884b4426",
   "metadata": {},
   "outputs": [
    {
     "name": "stdout",
     "output_type": "stream",
     "text": [
      "                                                 subs level\n",
      "0   [dismount, herman, horse, sick, chaps, wander,...    B1\n",
      "1   [spirit, stallion, cimarron, story, found, boo...    B1\n",
      "2   [asia, largest, earth, continents, stretches, ...    B1\n",
      "3   [africa, continent, earth, today, has, spectac...    B1\n",
      "4   [million, years, ago, planet, looked, very, di...    B1\n",
      "5   [going, come, angela, mind, sheep, dada, hear,...    B1\n",
      "6   [wake, mornin, each, every, day, sit, table, h...    B1\n",
      "7   [need, father, role, model, horny, geek, boy, ...    B1\n",
      "8   [southern, tip, south, america, andes, mountai...    B1\n",
      "9   [australia, island, continent, cast, adrift, d...    B1\n",
      "10  [billion, human, lives, ended, august, th, sur...    B1\n",
      "11  [santos, good, see, saved, usual, table, santo...    B1\n",
      "12  [europe, home, million, people, continent, has...    B1\n",
      "13  [sleepy, angelenos, good, good, morning, buddy...    B1\n",
      "14  [goddamn, bugs, shit, crap, nick, dick, surpri...    B1\n",
      "15  [continent, planet, changes, more, dramaticall...    B1\n"
     ]
    }
   ],
   "source": [
    "# создаем датафрейм с субтитрами уровня B1\n",
    "data_b_1 = {'subs': b_1}\n",
    "df_b_1 = pd.DataFrame(data_b_1)\n",
    "df_b_1['level'] = 'B1'\n",
    "print(df_b_1)"
   ]
  },
  {
   "cell_type": "code",
   "execution_count": 14,
   "id": "9a8de04b",
   "metadata": {},
   "outputs": [],
   "source": [
    "# загрузим в список имена файлов из папки с субтитрами B2\n",
    "films_name = os.listdir(path='/Users/urvanov_aleksandr/Documents/Yandex/17DS+/Мастерская/english_level/English_scores/Subtitles_all/B2')\n",
    "films_filtr = set(films_name) \n",
    "\n"
   ]
  },
  {
   "cell_type": "code",
   "execution_count": 15,
   "id": "7fd2f882",
   "metadata": {},
   "outputs": [],
   "source": [
    "b_2 = []\n",
    "\n",
    "#загружаем и отфильтровываем субтитры \n",
    "for film in films_filtr:\n",
    "    try: \n",
    "        subs = pysrt.open(f'/Users/urvanov_aleksandr/Documents/Yandex/17DS+/Мастерская/english_level/English_scores/Subtitles_all/B2/{film},')\n",
    "    except:\n",
    "        subs = pysrt.open(f'/Users/urvanov_aleksandr/Documents/Yandex/17DS+/Мастерская/english_level/English_scores/Subtitles_all/B2/{film}', encoding='latin-1')\n",
    "    # вызов функии для очистки текста\n",
    "    subs = re.findall('[a-zA-Z]+\\w+', subs.text)\n",
    "    for i in range(len(subs)):\n",
    "        subs[i] = subs[i].lower()\n",
    "    cln_subs = clean_subs(subs)\n",
    "    b_2.append(cln_subs)\n",
    "    "
   ]
  },
  {
   "cell_type": "code",
   "execution_count": 16,
   "id": "b84a1b69",
   "metadata": {},
   "outputs": [
    {
     "name": "stdout",
     "output_type": "stream",
     "text": [
      "                                                  subs level\n",
      "0    [previously, suits, suing, entire, firm, fraud...    B2\n",
      "1    [god, sorry, easier, ways, kill, worried, rat,...    B2\n",
      "2    [previously, suits, less, every, people, appli...    B2\n",
      "3    [previously, suits, harvey, specter, best, clo...    B2\n",
      "4    [come, put, table, go, take, wrap, hello, unbu...    B2\n",
      "..                                                 ...   ...\n",
      "102  [ask, daughters, come, see, ma, girls, too, so...    B2\n",
      "103  [husband, deeply, touched, welcome, ma, how, l...    B2\n",
      "104  [coughing, coughing, continues, spits, exhales...    B2\n",
      "105  [majesty, always, sovereign, begins, meal, abs...    B2\n",
      "106  [woke, wished, dead, aching, head, lay, motion...    B2\n",
      "\n",
      "[107 rows x 2 columns]\n"
     ]
    }
   ],
   "source": [
    "# создаем датафрейм с субтитрами уровня B2\n",
    "data_b_2 = {'subs': b_2}\n",
    "df_b_2 = pd.DataFrame(data_b_2)\n",
    "df_b_2['level'] = 'B2'\n",
    "print(df_b_2)\n"
   ]
  },
  {
   "cell_type": "code",
   "execution_count": 17,
   "id": "9f0b727b",
   "metadata": {},
   "outputs": [],
   "source": [
    "# загрузим в список имена файлов из папки с субтитрами C1\n",
    "#films_name = os.listdir(path='/Users/urvanov_aleksandr/Documents/Yandex/17DS+/Мастерская/english_level/English_scores/Subtitles_all/C1')\n",
    "#films_filtr = set(films_name) \n",
    "#c_1 = []\n"
   ]
  },
  {
   "cell_type": "code",
   "execution_count": 18,
   "id": "d8c55ea9",
   "metadata": {},
   "outputs": [],
   "source": [
    "#for film in films_filtr:\n",
    "#    try: \n",
    "#        subs = pysrt.open(f'/Users/urvanov_aleksandr/Documents/Yandex/17DS+/Мастерская/english_level/English_scores/Subtitles_all/C1/{film},')\n",
    "#    except:\n",
    "#        subs = pysrt.open(f'/Users/urvanov_aleksandr/Documents/Yandex/17DS+/Мастерская/english_level/English_scores/Subtitles_all/C1/{film}', encoding='latin-1')\n",
    "#    # вызов функии для очистки текста\n",
    "#    subs = re.findall('[a-zA-Z]+\\w+', subs.text)\n",
    "#    for i in range(len(subs)):\n",
    "#        subs[i] = subs[i].lower()\n",
    "#    cln_subs = clean_subs(subs)\n",
    "#    c_1.append(cln_subs)\n",
    "    "
   ]
  },
  {
   "cell_type": "markdown",
   "id": "33c270f5",
   "metadata": {},
   "source": [
    "Предыдущий метод при последовательной обработки данных уровня C1 ломает данные, будем открывать файлы вручную."
   ]
  },
  {
   "cell_type": "code",
   "execution_count": 19,
   "id": "94e18f14",
   "metadata": {},
   "outputs": [],
   "source": [
    "path1= '/Users/urvanov_aleksandr/Documents/Yandex/17DS+/Мастерская/english_level/English_scores/Subtitles_all/C1/Downton Abbey - S01E01 - Episode 1.eng.SDH.srt'\n",
    "path2= '/Users/urvanov_aleksandr/Documents/Yandex/17DS+/Мастерская/english_level/English_scores/Subtitles_all/C1/Downton Abbey - S01E02 - Episode 2.eng.SDH.srt'\n",
    "path3= '/Users/urvanov_aleksandr/Documents/Yandex/17DS+/Мастерская/english_level/English_scores/Subtitles_all/C1/Downton Abbey - S01E03 - Episode 3.eng.SDH.srt'\n",
    "path4= '/Users/urvanov_aleksandr/Documents/Yandex/17DS+/Мастерская/english_level/English_scores/Subtitles_all/C1/Downton Abbey - S01E04 - Episode 4.eng.SDH.srt'\n",
    "path5= '/Users/urvanov_aleksandr/Documents/Yandex/17DS+/Мастерская/english_level/English_scores/Subtitles_all/C1/Downton Abbey - S01E05 - Episode 5.eng.SDH.srt'\n",
    "path6= '/Users/urvanov_aleksandr/Documents/Yandex/17DS+/Мастерская/english_level/English_scores/Subtitles_all/C1/Downton Abbey - S01E06 - Episode 6.eng.SDH.srt'\n",
    "path7= '/Users/urvanov_aleksandr/Documents/Yandex/17DS+/Мастерская/english_level/English_scores/Subtitles_all/C1/Downton Abbey - S01E07 - Episode 7.eng.SDH.srt'\n",
    "\n",
    "path01= '/Users/urvanov_aleksandr/Documents/Yandex/17DS+/Мастерская/english_level/English_scores/Subtitles_all/C1/Suits S04E01 EngSub.srt'    \n",
    "path02= '/Users/urvanov_aleksandr/Documents/Yandex/17DS+/Мастерская/english_level/English_scores/Subtitles_all/C1/Suits S04E02 EngSub.srt'\n",
    "path03= '/Users/urvanov_aleksandr/Documents/Yandex/17DS+/Мастерская/english_level/English_scores/Subtitles_all/C1/Suits S04E03 EngSub.srt'    \n",
    "path04= '/Users/urvanov_aleksandr/Documents/Yandex/17DS+/Мастерская/english_level/English_scores/Subtitles_all/C1/Suits S04E04 EngSub.srt'    \n",
    "path05= '/Users/urvanov_aleksandr/Documents/Yandex/17DS+/Мастерская/english_level/English_scores/Subtitles_all/C1/Suits S04E05 EngSub.srt'    \n",
    "path06= '/Users/urvanov_aleksandr/Documents/Yandex/17DS+/Мастерская/english_level/English_scores/Subtitles_all/C1/Suits S04E06 EngSub.srt'    \n",
    "path07= '/Users/urvanov_aleksandr/Documents/Yandex/17DS+/Мастерская/english_level/English_scores/Subtitles_all/C1/Suits S04E07 EngSub.srt'   \n",
    "path08= '/Users/urvanov_aleksandr/Documents/Yandex/17DS+/Мастерская/english_level/English_scores/Subtitles_all/C1/Suits S04E08 EngSub.srt'    \n",
    "path09= '/Users/urvanov_aleksandr/Documents/Yandex/17DS+/Мастерская/english_level/English_scores/Subtitles_all/C1/Suits S04E09 EngSub.srt'    \n",
    "path10= '/Users/urvanov_aleksandr/Documents/Yandex/17DS+/Мастерская/english_level/English_scores/Subtitles_all/C1/Suits S04E10 EngSub.srt'    \n",
    "path11= '/Users/urvanov_aleksandr/Documents/Yandex/17DS+/Мастерская/english_level/English_scores/Subtitles_all/C1/Suits S04E11 EngSub.srt'    \n",
    "path12= '/Users/urvanov_aleksandr/Documents/Yandex/17DS+/Мастерская/english_level/English_scores/Subtitles_all/C1/Suits S04E12 EngSub.srt'   \n",
    "path13= '/Users/urvanov_aleksandr/Documents/Yandex/17DS+/Мастерская/english_level/English_scores/Subtitles_all/C1/Suits S04E13 EngSub.srt'\n",
    "path14= '/Users/urvanov_aleksandr/Documents/Yandex/17DS+/Мастерская/english_level/English_scores/Subtitles_all/C1/Suits S04E14 EngSub.srt'\n",
    "path15= '/Users/urvanov_aleksandr/Documents/Yandex/17DS+/Мастерская/english_level/English_scores/Subtitles_all/C1/Suits S04E15 EngSub.srt'\n",
    "path16= '/Users/urvanov_aleksandr/Documents/Yandex/17DS+/Мастерская/english_level/English_scores/Subtitles_all/C1/Suits S04E16 EngSub.srt'\n",
    "\n",
    "path21= '/Users/urvanov_aleksandr/Documents/Yandex/17DS+/Мастерская/english_level/English_scores/Subtitles_all/C1/Suits.S03E01.480pHDTV.x264-mSD.srt'\n",
    "path22= '/Users/urvanov_aleksandr/Documents/Yandex/17DS+/Мастерская/english_level/English_scores/Subtitles_all/C1/Suits.S03E02.720pHDTV.x264-mSD.srt'\n",
    "path23= '/Users/urvanov_aleksandr/Documents/Yandex/17DS+/Мастерская/english_level/English_scores/Subtitles_all/C1/Suits.S03E03.480pHDTV.x264-mSD.srt'\n",
    "path24= '/Users/urvanov_aleksandr/Documents/Yandex/17DS+/Мастерская/english_level/English_scores/Subtitles_all/C1/Suits.S03E04.480pHDTV.x264-mSD.srt'\n",
    "path25= '/Users/urvanov_aleksandr/Documents/Yandex/17DS+/Мастерская/english_level/English_scores/Subtitles_all/C1/Suits.S03E05.480p.HDTV.x264-mSD.srt'\n",
    "path26= '/Users/urvanov_aleksandr/Documents/Yandex/17DS+/Мастерская/english_level/English_scores/Subtitles_all/C1/Suits.S03E06.720p.HDTV.x264-mSD.srt'\n",
    "path27= '/Users/urvanov_aleksandr/Documents/Yandex/17DS+/Мастерская/english_level/English_scores/Subtitles_all/C1/Suits.S03E07.HDTV.x264-mSD.srt'\n",
    "path28= '/Users/urvanov_aleksandr/Documents/Yandex/17DS+/Мастерская/english_level/English_scores/Subtitles_all/C1/Suits.S03E08.480p.HDTV.x264-mSD.srt'\n",
    "path29= '/Users/urvanov_aleksandr/Documents/Yandex/17DS+/Мастерская/english_level/English_scores/Subtitles_all/C1/Suits.S03E09.480p.HDTV.x264-mSD.srt'\n",
    "path30= '/Users/urvanov_aleksandr/Documents/Yandex/17DS+/Мастерская/english_level/English_scores/Subtitles_all/C1/Suits.S03E10.HDTV.x264-mSD.srt'\n"
   ]
  },
  {
   "cell_type": "code",
   "execution_count": 20,
   "id": "4cec560a",
   "metadata": {},
   "outputs": [],
   "source": [
    "# функция для открытия и обработки файлов\n",
    "def c1(path):\n",
    "    filename = pysrt.open(path)\n",
    "    filename = re.findall('[a-zA-Z]+\\w+', filename.text)\n",
    "    for i in range(len(filename)):\n",
    "        filename[i] = filename[i].lower()\n",
    "    filename = [a for a in filename if a not in stop_additional]  \n",
    "    return filename"
   ]
  },
  {
   "cell_type": "code",
   "execution_count": 21,
   "id": "c171258c",
   "metadata": {},
   "outputs": [],
   "source": [
    "# вносим документы субтитров C1 в переменные\n",
    "path1 = c1(path1)\n",
    "path2 = c1(path2)\n",
    "path3 = c1(path3)\n",
    "path4 = c1(path4)\n",
    "path5 = c1(path5)\n",
    "path6 = c1(path6)\n",
    "path7 = c1(path7)\n",
    "\n",
    "path01 = c1(path01)\n",
    "path02 = c1(path02)\n",
    "path03 = c1(path03)\n",
    "path04 = c1(path04)\n",
    "path05 = c1(path05)\n",
    "path06 = c1(path06)\n",
    "path07 = c1(path07)\n",
    "path08 = c1(path08)\n",
    "path09 = c1(path09)\n",
    "path10 = c1(path10)\n",
    "path11 = c1(path11)\n",
    "path12 = c1(path12)\n",
    "path13 = c1(path13)\n",
    "path14 = c1(path14)\n",
    "path15 = c1(path15)\n",
    "path16 = c1(path16)\n",
    "\n",
    "path21 = c1(path21)\n",
    "path22 = c1(path22)\n",
    "path23 = c1(path23)\n",
    "path24 = c1(path24)\n",
    "path25 = c1(path25)\n",
    "path26 = c1(path26)\n",
    "path27 = c1(path27)\n",
    "path28 = c1(path28)\n",
    "path29 = c1(path29)\n",
    "path30 = c1(path30)"
   ]
  },
  {
   "cell_type": "code",
   "execution_count": 22,
   "id": "2811552e",
   "metadata": {},
   "outputs": [],
   "source": [
    "# создаем список списков\n",
    "c_1 = path1, path2, path3, path4, path5, path6, path7, path01, path2, path03, path04, path05, path06, path07, path08, path09, path10, path11, path12, path13, path14, path15, path16, path21, path22, path23, path24, path25, path26, path27, path28, path29, path30\n"
   ]
  },
  {
   "cell_type": "code",
   "execution_count": 23,
   "id": "49ea8db7",
   "metadata": {},
   "outputs": [],
   "source": [
    "# создаем датафрейм с субтитрами уровня С1\n",
    "data_c_1 = {'subs': c_1}\n",
    "df_c_1 = pd.DataFrame(data_c_1)\n",
    "df_c_1['level'] = 'C1'"
   ]
  },
  {
   "cell_type": "code",
   "execution_count": 24,
   "id": "80e45631",
   "metadata": {},
   "outputs": [
    {
     "name": "stdout",
     "output_type": "stream",
     "text": [
      "                                                subs level\n",
      "0  [telegraph, machine, beeping, train, whistle, ...    C1\n",
      "1  [ma, crawley, house, good, ill, sighs, see, re...    C1\n",
      "2  [bates, came, morning, said, would, isn, quite...    C1\n",
      "3  [hammering, does, open, tomorrow, afternoon, l...    C1\n",
      "4  [gasps, made, jump, daisy, matter, thumbs, sor...    C1\n"
     ]
    }
   ],
   "source": [
    "print(df_c_1.head())"
   ]
  },
  {
   "cell_type": "code",
   "execution_count": 25,
   "id": "b4f28e39",
   "metadata": {},
   "outputs": [],
   "source": [
    "# создадим датафрейм с субтитрами и уровнем английского \n",
    "frames = df_a_2, df_b_1, df_b_2, df_c_1\n",
    "\n",
    "df = pd.concat(frames)"
   ]
  },
  {
   "cell_type": "code",
   "execution_count": 26,
   "id": "0514fb5a",
   "metadata": {},
   "outputs": [
    {
     "name": "stdout",
     "output_type": "stream",
     "text": [
      "                                                 subs level\n",
      "0   [thunder, rumbling, merle, heard, bitch, got, ...    A2\n",
      "1   [bugs, chittering, brakes, squeak, engine, sto...    A2\n",
      "2   [walkie, talkie, squawks, rick, morgan, hear, ...    A2\n",
      "3   [birds, chirping, bugs, chittering, boy, mom, ...    A2\n",
      "4   [people, yelling, radio, chatter, ma, ma, plea...    A2\n",
      "..                                                ...   ...\n",
      "28  [lost, ava, company, assume, deal, edward, dea...    C1\n",
      "29  [previously, suits, going, wall, tomorrow, way...    C1\n",
      "30  [ava, hessington, acquitted, darby, backs, man...    C1\n",
      "31  [previously, suits, bonding, father, speaking,...    C1\n",
      "32  [previously, suits, copy, letter, wrote, copy,...    C1\n",
      "\n",
      "[162 rows x 2 columns]\n"
     ]
    }
   ],
   "source": [
    "print(df) "
   ]
  },
  {
   "cell_type": "code",
   "execution_count": 27,
   "id": "af64ca2c",
   "metadata": {},
   "outputs": [
    {
     "name": "stdout",
     "output_type": "stream",
     "text": [
      "                                                  subs level\n",
      "0    [previously, suits, woodall, coming, after, se...    C1\n",
      "1    [dismount, herman, horse, sick, chaps, wander,...    B1\n",
      "2    [chloe, mother, said, wasn, eating, thought, c...    B2\n",
      "3    [hills, alive, sound, music, songs, sung, thou...    B2\n",
      "4    [clothes, wear, people, make, clothes, impact,...    B2\n",
      "..                                                 ...   ...\n",
      "157  [people, vocalizing, rhythmically, more, voice...    B2\n",
      "158  [previously, suits, suing, entire, firm, fraud...    B2\n",
      "159  [ma, crawley, house, good, ill, sighs, see, re...    C1\n",
      "160  [goddamn, bugs, shit, crap, nick, dick, surpri...    B1\n",
      "161  [bugs, chittering, brakes, squeak, engine, sto...    A2\n",
      "\n",
      "[162 rows x 2 columns]\n"
     ]
    }
   ],
   "source": [
    "# перемешаем данные\n",
    "df = df.sample(frac=1).reset_index(drop=True)\n",
    "print(df)"
   ]
  },
  {
   "cell_type": "code",
   "execution_count": 28,
   "id": "6538bdef",
   "metadata": {},
   "outputs": [],
   "source": [
    "df['subs'] = df['subs'].apply(' '.join)"
   ]
  },
  {
   "cell_type": "code",
   "execution_count": 29,
   "id": "020f7bf0",
   "metadata": {
    "scrolled": true
   },
   "outputs": [
    {
     "name": "stdout",
     "output_type": "stream",
     "text": [
      "                                                  subs level\n",
      "0    previously suits woodall coming after sean cah...    C1\n",
      "1    dismount herman horse sick chaps wander passag...    B1\n",
      "2    chloe mother said wasn eating thought could he...    B2\n",
      "3    hills alive sound music songs sung thousand ye...    B2\n",
      "4    clothes wear people make clothes impact having...    B2\n",
      "..                                                 ...   ...\n",
      "157  people vocalizing rhythmically more voices joi...    B2\n",
      "158  previously suits suing entire firm fraud looki...    B2\n",
      "159  ma crawley house good ill sighs see refuse mec...    C1\n",
      "160  goddamn bugs shit crap nick dick surprise comi...    B1\n",
      "161  bugs chittering brakes squeak engine stops tru...    A2\n",
      "\n",
      "[162 rows x 2 columns]\n"
     ]
    }
   ],
   "source": [
    "print(df)"
   ]
  },
  {
   "cell_type": "markdown",
   "id": "04f0ef73",
   "metadata": {},
   "source": [
    "## Вывод "
   ]
  },
  {
   "cell_type": "markdown",
   "id": "28bc207d",
   "metadata": {},
   "source": [
    "Данные обработаны, данных недостаточно для корректного прогноза, будем исходить из того что есть. При попытке использовать леммитизацию ломаеются данные. База NTLK выдает ошибку. Отфильтровал собственными стоп-словами. Готовы переходить к следующему этапу."
   ]
  },
  {
   "cell_type": "markdown",
   "id": "714e77f4",
   "metadata": {},
   "source": [
    "## 2. Выбор и обучение моделей, итоговая оценка качества предсказания лучшей модели."
   ]
  },
  {
   "cell_type": "code",
   "execution_count": 30,
   "id": "f05c23c7",
   "metadata": {},
   "outputs": [],
   "source": [
    "# выделяем целевой признак и признаки:\n",
    "target = df[\"level\"]\n",
    "features = df[\"subs\"]"
   ]
  },
  {
   "cell_type": "code",
   "execution_count": 31,
   "id": "e9f5312e",
   "metadata": {},
   "outputs": [],
   "source": [
    "# выделяем 75% данных для обучающей выборки, остальные данные для тестовой\n",
    "X_train, X_test, y_train, y_test = train_test_split(\n",
    "    features, target, test_size = 0.25, random_state = RANDOM_STATE)"
   ]
  },
  {
   "cell_type": "code",
   "execution_count": 32,
   "id": "e91ab513",
   "metadata": {},
   "outputs": [],
   "source": [
    "# создаем pipiline  для преобразования документов в вектор признаков и оценке релевантности слов\n",
    "text_clf = Pipeline([('vect', CountVectorizer(stop_words='english')),\n",
    "                     ('tfidf', TfidfTransformer()),\n",
    "                      ('clf', MultinomialNB(fit_prior=False))])\n"
   ]
  },
  {
   "cell_type": "code",
   "execution_count": 33,
   "id": "d3b9d17c",
   "metadata": {},
   "outputs": [],
   "source": [
    "# обучаем модель многочисленнным классифкатором наивного Байеса\n",
    "text_clf = text_clf.fit(X_train, y_train)\n"
   ]
  },
  {
   "cell_type": "code",
   "execution_count": 34,
   "id": "3fcce364",
   "metadata": {},
   "outputs": [],
   "source": [
    "# выводим предсказания\n",
    "predicted = text_clf.predict(X_test)"
   ]
  },
  {
   "cell_type": "code",
   "execution_count": 35,
   "id": "0f9c3776",
   "metadata": {},
   "outputs": [],
   "source": [
    "nb = np.mean(predicted == y_test)"
   ]
  },
  {
   "cell_type": "code",
   "execution_count": 36,
   "id": "6410d5af",
   "metadata": {},
   "outputs": [
    {
     "name": "stdout",
     "output_type": "stream",
     "text": [
      "Accuracy для модели MultinomialNB : 0.8048780487804879\n"
     ]
    }
   ],
   "source": [
    "print('Accuracy для модели MultinomialNB :', nb)"
   ]
  },
  {
   "cell_type": "code",
   "execution_count": 37,
   "id": "1dd497ef",
   "metadata": {},
   "outputs": [],
   "source": [
    "# подберем гиперпараметры для модели MultinomialNB с помощью GridSearchCV\n",
    "grid_param = {'vect__ngram_range': [(1, 1), (1, 2)],\n",
    "              'tfidf__use_idf': (True, False),\n",
    "              'clf__alpha': (1e-2, 1e-3)}\n",
    "\n",
    "gs_clf = GridSearchCV(text_clf, grid_param, cv =2, n_jobs=-1)"
   ]
  },
  {
   "cell_type": "code",
   "execution_count": 38,
   "id": "b6a14d5a",
   "metadata": {},
   "outputs": [],
   "source": [
    "# обучаем модель\n",
    "gs_clf = gs_clf.fit(X_train, y_train)"
   ]
  },
  {
   "cell_type": "code",
   "execution_count": 39,
   "id": "ed8cf2d2",
   "metadata": {},
   "outputs": [
    {
     "data": {
      "text/plain": [
       "{'clf__alpha': 0.001, 'tfidf__use_idf': True, 'vect__ngram_range': (1, 2)}"
      ]
     },
     "execution_count": 39,
     "metadata": {},
     "output_type": "execute_result"
    }
   ],
   "source": [
    "# выводим лучшую модель\n",
    "gs_clf.best_params_"
   ]
  },
  {
   "cell_type": "code",
   "execution_count": 40,
   "id": "a406e386",
   "metadata": {},
   "outputs": [],
   "source": [
    "nb_gr = gs_clf.best_score_"
   ]
  },
  {
   "cell_type": "code",
   "execution_count": 41,
   "id": "34b2c9b0",
   "metadata": {},
   "outputs": [
    {
     "name": "stdout",
     "output_type": "stream",
     "text": [
      "Accuracy для модели MultinomialNB с подбором через GridSearchCV : 0.9087431693989071\n"
     ]
    }
   ],
   "source": [
    "print('Accuracy для модели MultinomialNB с подбором через GridSearchCV :', nb_gr)"
   ]
  },
  {
   "cell_type": "markdown",
   "id": "863a9b33",
   "metadata": {},
   "source": [
    "----------"
   ]
  },
  {
   "cell_type": "code",
   "execution_count": 42,
   "id": "9dd9cd6a",
   "metadata": {},
   "outputs": [
    {
     "data": {
      "text/html": [
       "<style>#sk-container-id-1 {color: black;background-color: white;}#sk-container-id-1 pre{padding: 0;}#sk-container-id-1 div.sk-toggleable {background-color: white;}#sk-container-id-1 label.sk-toggleable__label {cursor: pointer;display: block;width: 100%;margin-bottom: 0;padding: 0.3em;box-sizing: border-box;text-align: center;}#sk-container-id-1 label.sk-toggleable__label-arrow:before {content: \"▸\";float: left;margin-right: 0.25em;color: #696969;}#sk-container-id-1 label.sk-toggleable__label-arrow:hover:before {color: black;}#sk-container-id-1 div.sk-estimator:hover label.sk-toggleable__label-arrow:before {color: black;}#sk-container-id-1 div.sk-toggleable__content {max-height: 0;max-width: 0;overflow: hidden;text-align: left;background-color: #f0f8ff;}#sk-container-id-1 div.sk-toggleable__content pre {margin: 0.2em;color: black;border-radius: 0.25em;background-color: #f0f8ff;}#sk-container-id-1 input.sk-toggleable__control:checked~div.sk-toggleable__content {max-height: 200px;max-width: 100%;overflow: auto;}#sk-container-id-1 input.sk-toggleable__control:checked~label.sk-toggleable__label-arrow:before {content: \"▾\";}#sk-container-id-1 div.sk-estimator input.sk-toggleable__control:checked~label.sk-toggleable__label {background-color: #d4ebff;}#sk-container-id-1 div.sk-label input.sk-toggleable__control:checked~label.sk-toggleable__label {background-color: #d4ebff;}#sk-container-id-1 input.sk-hidden--visually {border: 0;clip: rect(1px 1px 1px 1px);clip: rect(1px, 1px, 1px, 1px);height: 1px;margin: -1px;overflow: hidden;padding: 0;position: absolute;width: 1px;}#sk-container-id-1 div.sk-estimator {font-family: monospace;background-color: #f0f8ff;border: 1px dotted black;border-radius: 0.25em;box-sizing: border-box;margin-bottom: 0.5em;}#sk-container-id-1 div.sk-estimator:hover {background-color: #d4ebff;}#sk-container-id-1 div.sk-parallel-item::after {content: \"\";width: 100%;border-bottom: 1px solid gray;flex-grow: 1;}#sk-container-id-1 div.sk-label:hover label.sk-toggleable__label {background-color: #d4ebff;}#sk-container-id-1 div.sk-serial::before {content: \"\";position: absolute;border-left: 1px solid gray;box-sizing: border-box;top: 0;bottom: 0;left: 50%;z-index: 0;}#sk-container-id-1 div.sk-serial {display: flex;flex-direction: column;align-items: center;background-color: white;padding-right: 0.2em;padding-left: 0.2em;position: relative;}#sk-container-id-1 div.sk-item {position: relative;z-index: 1;}#sk-container-id-1 div.sk-parallel {display: flex;align-items: stretch;justify-content: center;background-color: white;position: relative;}#sk-container-id-1 div.sk-item::before, #sk-container-id-1 div.sk-parallel-item::before {content: \"\";position: absolute;border-left: 1px solid gray;box-sizing: border-box;top: 0;bottom: 0;left: 50%;z-index: -1;}#sk-container-id-1 div.sk-parallel-item {display: flex;flex-direction: column;z-index: 1;position: relative;background-color: white;}#sk-container-id-1 div.sk-parallel-item:first-child::after {align-self: flex-end;width: 50%;}#sk-container-id-1 div.sk-parallel-item:last-child::after {align-self: flex-start;width: 50%;}#sk-container-id-1 div.sk-parallel-item:only-child::after {width: 0;}#sk-container-id-1 div.sk-dashed-wrapped {border: 1px dashed gray;margin: 0 0.4em 0.5em 0.4em;box-sizing: border-box;padding-bottom: 0.4em;background-color: white;}#sk-container-id-1 div.sk-label label {font-family: monospace;font-weight: bold;display: inline-block;line-height: 1.2em;}#sk-container-id-1 div.sk-label-container {text-align: center;}#sk-container-id-1 div.sk-container {/* jupyter's `normalize.less` sets `[hidden] { display: none; }` but bootstrap.min.css set `[hidden] { display: none !important; }` so we also need the `!important` here to be able to override the default hidden behavior on the sphinx rendered scikit-learn.org. See: https://github.com/scikit-learn/scikit-learn/issues/21755 */display: inline-block !important;position: relative;}#sk-container-id-1 div.sk-text-repr-fallback {display: none;}</style><div id=\"sk-container-id-1\" class=\"sk-top-container\"><div class=\"sk-text-repr-fallback\"><pre>Pipeline(steps=[(&#x27;vect&#x27;, CountVectorizer(stop_words=&#x27;english&#x27;)),\n",
       "                (&#x27;tfidf&#x27;, TfidfTransformer()),\n",
       "                (&#x27;clf-svm&#x27;, SGDClassifier(alpha=0.001, random_state=12345))])</pre><b>In a Jupyter environment, please rerun this cell to show the HTML representation or trust the notebook. <br />On GitHub, the HTML representation is unable to render, please try loading this page with nbviewer.org.</b></div><div class=\"sk-container\" hidden><div class=\"sk-item sk-dashed-wrapped\"><div class=\"sk-label-container\"><div class=\"sk-label sk-toggleable\"><input class=\"sk-toggleable__control sk-hidden--visually\" id=\"sk-estimator-id-1\" type=\"checkbox\" ><label for=\"sk-estimator-id-1\" class=\"sk-toggleable__label sk-toggleable__label-arrow\">Pipeline</label><div class=\"sk-toggleable__content\"><pre>Pipeline(steps=[(&#x27;vect&#x27;, CountVectorizer(stop_words=&#x27;english&#x27;)),\n",
       "                (&#x27;tfidf&#x27;, TfidfTransformer()),\n",
       "                (&#x27;clf-svm&#x27;, SGDClassifier(alpha=0.001, random_state=12345))])</pre></div></div></div><div class=\"sk-serial\"><div class=\"sk-item\"><div class=\"sk-estimator sk-toggleable\"><input class=\"sk-toggleable__control sk-hidden--visually\" id=\"sk-estimator-id-2\" type=\"checkbox\" ><label for=\"sk-estimator-id-2\" class=\"sk-toggleable__label sk-toggleable__label-arrow\">CountVectorizer</label><div class=\"sk-toggleable__content\"><pre>CountVectorizer(stop_words=&#x27;english&#x27;)</pre></div></div></div><div class=\"sk-item\"><div class=\"sk-estimator sk-toggleable\"><input class=\"sk-toggleable__control sk-hidden--visually\" id=\"sk-estimator-id-3\" type=\"checkbox\" ><label for=\"sk-estimator-id-3\" class=\"sk-toggleable__label sk-toggleable__label-arrow\">TfidfTransformer</label><div class=\"sk-toggleable__content\"><pre>TfidfTransformer()</pre></div></div></div><div class=\"sk-item\"><div class=\"sk-estimator sk-toggleable\"><input class=\"sk-toggleable__control sk-hidden--visually\" id=\"sk-estimator-id-4\" type=\"checkbox\" ><label for=\"sk-estimator-id-4\" class=\"sk-toggleable__label sk-toggleable__label-arrow\">SGDClassifier</label><div class=\"sk-toggleable__content\"><pre>SGDClassifier(alpha=0.001, random_state=12345)</pre></div></div></div></div></div></div></div>"
      ],
      "text/plain": [
       "Pipeline(steps=[('vect', CountVectorizer(stop_words='english')),\n",
       "                ('tfidf', TfidfTransformer()),\n",
       "                ('clf-svm', SGDClassifier(alpha=0.001, random_state=12345))])"
      ]
     },
     "execution_count": 42,
     "metadata": {},
     "output_type": "execute_result"
    }
   ],
   "source": [
    "# попробуем использовать модель (SGD) машины опорных векторов \n",
    "text_clf_svm = Pipeline([('vect', CountVectorizer(stop_words='english')),\n",
    "                         ('tfidf', TfidfTransformer()),\n",
    "                         ('clf-svm', SGDClassifier(loss='hinge', penalty='l2', \n",
    "                                                   alpha=1e-3, random_state=RANDOM_STATE))])\n",
    "text_clf_svm.fit(X_train, y_train)\n"
   ]
  },
  {
   "cell_type": "code",
   "execution_count": 43,
   "id": "395e1932",
   "metadata": {},
   "outputs": [],
   "source": [
    "# выводим предсказания\n",
    "predicted_svm = text_clf_svm.predict(X_test)"
   ]
  },
  {
   "cell_type": "code",
   "execution_count": 44,
   "id": "190e6630",
   "metadata": {},
   "outputs": [],
   "source": [
    "sgd = np.mean(predicted_svm == y_test)"
   ]
  },
  {
   "cell_type": "code",
   "execution_count": 45,
   "id": "a45e3b0e",
   "metadata": {},
   "outputs": [
    {
     "name": "stdout",
     "output_type": "stream",
     "text": [
      "Accuracy для модели SGDClassifier : 0.9512195121951219\n"
     ]
    }
   ],
   "source": [
    "print('Accuracy для модели SGDClassifier :', sgd)"
   ]
  },
  {
   "cell_type": "code",
   "execution_count": 46,
   "id": "58f99718",
   "metadata": {},
   "outputs": [],
   "source": [
    "# подберем гиперпараметры для модели SGDClassifier  с помощью GridSearchCV\n",
    "grid_param = {'vect__ngram_range': [(1, 1), (1, 2)],\n",
    "              'tfidf__use_idf': (True, False),\n",
    "               'clf-svm__alpha': (1e-2, 1e-3)}\n",
    "gs_clf_svm = GridSearchCV(text_clf_svm, grid_param, cv=2, n_jobs=-1)"
   ]
  },
  {
   "cell_type": "code",
   "execution_count": 47,
   "id": "ae5fb4ee",
   "metadata": {},
   "outputs": [],
   "source": [
    "# обучаем модель\n",
    "gs_clf_svm = gs_clf_svm.fit(X_train, y_train)"
   ]
  },
  {
   "cell_type": "code",
   "execution_count": 48,
   "id": "08a403fa",
   "metadata": {},
   "outputs": [
    {
     "data": {
      "text/plain": [
       "{'clf-svm__alpha': 0.01, 'tfidf__use_idf': True, 'vect__ngram_range': (1, 1)}"
      ]
     },
     "execution_count": 48,
     "metadata": {},
     "output_type": "execute_result"
    }
   ],
   "source": [
    "# выводим лучшую модель\n",
    "gs_clf_svm.best_params_"
   ]
  },
  {
   "cell_type": "code",
   "execution_count": 49,
   "id": "87b78d0c",
   "metadata": {},
   "outputs": [],
   "source": [
    "sgd_gr = gs_clf_svm.best_score_"
   ]
  },
  {
   "cell_type": "code",
   "execution_count": 50,
   "id": "7d9d32c1",
   "metadata": {},
   "outputs": [
    {
     "name": "stdout",
     "output_type": "stream",
     "text": [
      "Accuracy для модели SGDClassifier с подбором через GridSearchCV : 0.8920765027322404\n"
     ]
    }
   ],
   "source": [
    "print('Accuracy для модели SGDClassifier с подбором через GridSearchCV :', sgd_gr)\n",
    "      "
   ]
  },
  {
   "cell_type": "markdown",
   "id": "0fdf85ff",
   "metadata": {},
   "source": [
    "### Вывод"
   ]
  },
  {
   "cell_type": "markdown",
   "id": "1699ef65",
   "metadata": {},
   "source": [
    "Мы увидели, что для нашего набора данных оба алгоритма были почти одинаково согласованы при оптимизации. "
   ]
  },
  {
   "cell_type": "markdown",
   "id": "b3cbc7c2",
   "metadata": {},
   "source": [
    "## 3. Вывод"
   ]
  },
  {
   "cell_type": "code",
   "execution_count": 51,
   "id": "e7cd1f69",
   "metadata": {},
   "outputs": [
    {
     "data": {
      "text/html": [
       "<div>\n",
       "<style scoped>\n",
       "    .dataframe tbody tr th:only-of-type {\n",
       "        vertical-align: middle;\n",
       "    }\n",
       "\n",
       "    .dataframe tbody tr th {\n",
       "        vertical-align: top;\n",
       "    }\n",
       "\n",
       "    .dataframe thead th {\n",
       "        text-align: right;\n",
       "    }\n",
       "</style>\n",
       "<table border=\"1\" class=\"dataframe\">\n",
       "  <thead>\n",
       "    <tr style=\"text-align: right;\">\n",
       "      <th></th>\n",
       "      <th>accuracy</th>\n",
       "    </tr>\n",
       "  </thead>\n",
       "  <tbody>\n",
       "    <tr>\n",
       "      <th>SGDClassifier</th>\n",
       "      <td>0.951220</td>\n",
       "    </tr>\n",
       "    <tr>\n",
       "      <th>MultinomialNB v GridSearchCV</th>\n",
       "      <td>0.908743</td>\n",
       "    </tr>\n",
       "    <tr>\n",
       "      <th>SGDClassifier v GridSearchCV</th>\n",
       "      <td>0.892077</td>\n",
       "    </tr>\n",
       "    <tr>\n",
       "      <th>MultinomialNB</th>\n",
       "      <td>0.804878</td>\n",
       "    </tr>\n",
       "  </tbody>\n",
       "</table>\n",
       "</div>"
      ],
      "text/plain": [
       "                              accuracy\n",
       "SGDClassifier                 0.951220\n",
       "MultinomialNB v GridSearchCV  0.908743\n",
       "SGDClassifier v GridSearchCV  0.892077\n",
       "MultinomialNB                 0.804878"
      ]
     },
     "execution_count": 51,
     "metadata": {},
     "output_type": "execute_result"
    }
   ],
   "source": [
    "# сводная таблица по показателям MAPE, время обучения модели:\n",
    "index = ['MultinomialNB',\n",
    "         'MultinomialNB v GridSearchCV',\n",
    "         'SGDClassifier',\n",
    "         'SGDClassifier v GridSearchCV']\n",
    "\n",
    "\n",
    "data = {'accuracy':[nb,\n",
    "                    nb_gr,\n",
    "                    sgd,\n",
    "                    sgd_gr]}\n",
    "\n",
    "data = pd.DataFrame(data=data, index=index)\n",
    "data.sort_values(by = 'accuracy', ascending=False)"
   ]
  },
  {
   "cell_type": "markdown",
   "id": "9c16cd02",
   "metadata": {},
   "source": [
    "В ходе работы было выполнено:\n",
    "1. Загружены данные и проведена предобработка.\n",
    "2. Выполнено сравнение 2-х моделей MultinomialNB, SGDClassifier  с использованием различных наборов гиперпараметров.\n",
    "3. Выбрана лучшая модель по результатам метрики accuracy.\n",
    "\n",
    "Лучшей моделью можно считать SGDClassifier c accuracy = 0.951220. Для заказчика однозначно рекомендую использовать эту модель для определения уровня английского языка субтитрам. "
   ]
  },
  {
   "cell_type": "code",
   "execution_count": null,
   "id": "075272ce",
   "metadata": {},
   "outputs": [],
   "source": []
  }
 ],
 "metadata": {
  "kernelspec": {
   "display_name": "Python 3 (ipykernel)",
   "language": "python",
   "name": "python3"
  },
  "language_info": {
   "codemirror_mode": {
    "name": "ipython",
    "version": 3
   },
   "file_extension": ".py",
   "mimetype": "text/x-python",
   "name": "python",
   "nbconvert_exporter": "python",
   "pygments_lexer": "ipython3",
   "version": "3.11.4"
  }
 },
 "nbformat": 4,
 "nbformat_minor": 5
}
